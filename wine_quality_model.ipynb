{
  "nbformat": 4,
  "nbformat_minor": 0,
  "metadata": {
    "colab": {
      "name": "wine-quality-model.ipynb",
      "version": "0.3.2",
      "provenance": [],
      "collapsed_sections": [],
      "include_colab_link": true
    },
    "kernelspec": {
      "name": "python3",
      "display_name": "Python 3"
    }
  },
  "cells": [
    {
      "cell_type": "markdown",
      "metadata": {
        "id": "view-in-github",
        "colab_type": "text"
      },
      "source": [
        "<a href=\"https://colab.research.google.com/github/nikitawokurka/Winemodel/blob/master/wine_quality_model.ipynb\" target=\"_parent\"><img src=\"https://colab.research.google.com/assets/colab-badge.svg\" alt=\"Open In Colab\"/></a>"
      ]
    },
    {
      "cell_type": "markdown",
      "metadata": {
        "id": "-kHjVdA83GQJ",
        "colab_type": "text"
      },
      "source": [
        "Cloning of the wine dataset from a github repository."
      ]
    },
    {
      "cell_type": "code",
      "metadata": {
        "id": "MdVY_GCM8wY3",
        "colab_type": "code",
        "outputId": "8ca20ec7-9327-4319-9f2e-93c79121ccf6",
        "colab": {
          "base_uri": "https://localhost:8080/",
          "height": 182
        }
      },
      "source": [
        "! git clone https://github.com/nikitawokurka/Winemodel.git\n",
        "%cd Winemodel \n",
        "%ls"
      ],
      "execution_count": 0,
      "outputs": [
        {
          "output_type": "stream",
          "text": [
            "Cloning into 'Winemodel'...\n",
            "remote: Enumerating objects: 12, done.\u001b[K\n",
            "remote: Counting objects:   8% (1/12)   \u001b[K\rremote: Counting objects:  16% (2/12)   \u001b[K\rremote: Counting objects:  25% (3/12)   \u001b[K\rremote: Counting objects:  33% (4/12)   \u001b[K\rremote: Counting objects:  41% (5/12)   \u001b[K\rremote: Counting objects:  50% (6/12)   \u001b[K\rremote: Counting objects:  58% (7/12)   \u001b[K\rremote: Counting objects:  66% (8/12)   \u001b[K\rremote: Counting objects:  75% (9/12)   \u001b[K\rremote: Counting objects:  83% (10/12)   \u001b[K\rremote: Counting objects:  91% (11/12)   \u001b[K\rremote: Counting objects: 100% (12/12)   \u001b[K\rremote: Counting objects: 100% (12/12), done.\u001b[K\n",
            "remote: Compressing objects:  10% (1/10)   \u001b[K\rremote: Compressing objects:  20% (2/10)   \u001b[K\rremote: Compressing objects:  30% (3/10)   \u001b[K\rremote: Compressing objects:  40% (4/10)   \u001b[K\rremote: Compressing objects:  50% (5/10)   \u001b[K\rremote: Compressing objects:  60% (6/10)   \u001b[K\rremote: Compressing objects:  70% (7/10)   \u001b[K\rremote: Compressing objects:  80% (8/10)   \u001b[K\rremote: Compressing objects:  90% (9/10)   \u001b[K\rremote: Compressing objects: 100% (10/10)   \u001b[K\rremote: Compressing objects: 100% (10/10), done.\u001b[K\n",
            "Unpacking objects:   8% (1/12)   \rUnpacking objects:  16% (2/12)   \rUnpacking objects:  25% (3/12)   \rUnpacking objects:  33% (4/12)   \rUnpacking objects:  41% (5/12)   \rUnpacking objects:  50% (6/12)   \rUnpacking objects:  58% (7/12)   \rUnpacking objects:  66% (8/12)   \rUnpacking objects:  75% (9/12)   \rremote: Total 12 (delta 2), reused 0 (delta 0), pack-reused 0\u001b[K\n",
            "Unpacking objects:  83% (10/12)   \rUnpacking objects:  91% (11/12)   \rUnpacking objects: 100% (12/12)   \rUnpacking objects: 100% (12/12), done.\n",
            "/content/Winemodel/Winemodel/Winemodel\n",
            "README.md  wine_quality_model.ipynb  winequality-red.csv\n"
          ],
          "name": "stdout"
        }
      ]
    },
    {
      "cell_type": "markdown",
      "metadata": {
        "id": "NJZJMkkd3I-_",
        "colab_type": "text"
      },
      "source": [
        "# Import TensorFlow and other libraries\n",
        "\n",
        "Installing Tensorflow 2.0 beta via pip.\n",
        "\n"
      ]
    },
    {
      "cell_type": "code",
      "metadata": {
        "id": "xIOApUBWxRI6",
        "colab_type": "code",
        "cellView": "both",
        "outputId": "d26761bb-99ae-4f51-ec02-d23163a782ff",
        "colab": {
          "base_uri": "https://localhost:8080/",
          "height": 446
        }
      },
      "source": [
        "pip install tensorflow==2.0.0-beta0"
      ],
      "execution_count": 0,
      "outputs": [
        {
          "output_type": "stream",
          "text": [
            "Requirement already satisfied: tensorflow==2.0.0-beta0 in /usr/local/lib/python3.6/dist-packages (2.0.0b0)\n",
            "Requirement already satisfied: termcolor>=1.1.0 in /usr/local/lib/python3.6/dist-packages (from tensorflow==2.0.0-beta0) (1.1.0)\n",
            "Requirement already satisfied: keras-applications>=1.0.6 in /usr/local/lib/python3.6/dist-packages (from tensorflow==2.0.0-beta0) (1.0.8)\n",
            "Requirement already satisfied: protobuf>=3.6.1 in /usr/local/lib/python3.6/dist-packages (from tensorflow==2.0.0-beta0) (3.7.1)\n",
            "Requirement already satisfied: grpcio>=1.8.6 in /usr/local/lib/python3.6/dist-packages (from tensorflow==2.0.0-beta0) (1.15.0)\n",
            "Requirement already satisfied: numpy<2.0,>=1.14.5 in /usr/local/lib/python3.6/dist-packages (from tensorflow==2.0.0-beta0) (1.16.4)\n",
            "Requirement already satisfied: keras-preprocessing>=1.0.5 in /usr/local/lib/python3.6/dist-packages (from tensorflow==2.0.0-beta0) (1.1.0)\n",
            "Requirement already satisfied: absl-py>=0.7.0 in /usr/local/lib/python3.6/dist-packages (from tensorflow==2.0.0-beta0) (0.7.1)\n",
            "Requirement already satisfied: astor>=0.6.0 in /usr/local/lib/python3.6/dist-packages (from tensorflow==2.0.0-beta0) (0.8.0)\n",
            "Requirement already satisfied: six>=1.10.0 in /usr/local/lib/python3.6/dist-packages (from tensorflow==2.0.0-beta0) (1.12.0)\n",
            "Requirement already satisfied: google-pasta>=0.1.6 in /usr/local/lib/python3.6/dist-packages (from tensorflow==2.0.0-beta0) (0.1.7)\n",
            "Requirement already satisfied: tb-nightly<1.14.0a20190604,>=1.14.0a20190603 in /usr/local/lib/python3.6/dist-packages (from tensorflow==2.0.0-beta0) (1.14.0a20190603)\n",
            "Requirement already satisfied: wrapt>=1.11.1 in /usr/local/lib/python3.6/dist-packages (from tensorflow==2.0.0-beta0) (1.11.1)\n",
            "Requirement already satisfied: wheel>=0.26 in /usr/local/lib/python3.6/dist-packages (from tensorflow==2.0.0-beta0) (0.33.4)\n",
            "Requirement already satisfied: gast>=0.2.0 in /usr/local/lib/python3.6/dist-packages (from tensorflow==2.0.0-beta0) (0.2.2)\n",
            "Requirement already satisfied: tf-estimator-nightly<1.14.0.dev2019060502,>=1.14.0.dev2019060501 in /usr/local/lib/python3.6/dist-packages (from tensorflow==2.0.0-beta0) (1.14.0.dev2019060501)\n",
            "Requirement already satisfied: h5py in /usr/local/lib/python3.6/dist-packages (from keras-applications>=1.0.6->tensorflow==2.0.0-beta0) (2.8.0)\n",
            "Requirement already satisfied: setuptools in /usr/local/lib/python3.6/dist-packages (from protobuf>=3.6.1->tensorflow==2.0.0-beta0) (41.0.1)\n",
            "Requirement already satisfied: markdown>=2.6.8 in /usr/local/lib/python3.6/dist-packages (from tb-nightly<1.14.0a20190604,>=1.14.0a20190603->tensorflow==2.0.0-beta0) (3.1.1)\n",
            "Requirement already satisfied: werkzeug>=0.11.15 in /usr/local/lib/python3.6/dist-packages (from tb-nightly<1.14.0a20190604,>=1.14.0a20190603->tensorflow==2.0.0-beta0) (0.15.4)\n"
          ],
          "name": "stdout"
        }
      ]
    },
    {
      "cell_type": "markdown",
      "metadata": {
        "id": "TPsEfzY8Ct3e",
        "colab_type": "text"
      },
      "source": [
        "Importing libraries and checking the version of Tensorflow"
      ]
    },
    {
      "cell_type": "code",
      "metadata": {
        "id": "gXkxItPFzwg2",
        "colab_type": "code",
        "outputId": "2a7d765e-44ef-4711-f550-952428a607ee",
        "colab": {
          "base_uri": "https://localhost:8080/",
          "height": 34
        }
      },
      "source": [
        "from __future__ import absolute_import, division, print_function, unicode_literals\n",
        "\n",
        "import pandas as pd\n",
        "import tensorflow as tf\n",
        "from tensorflow import feature_column\n",
        "from tensorflow.keras import layers\n",
        "from sklearn.model_selection import train_test_split\n",
        "\n",
        "print(tf.__version__)"
      ],
      "execution_count": 0,
      "outputs": [
        {
          "output_type": "stream",
          "text": [
            "2.0.0-beta0\n"
          ],
          "name": "stdout"
        }
      ]
    },
    {
      "cell_type": "markdown",
      "metadata": {
        "id": "HWtCe-Nczw57",
        "colab_type": "text"
      },
      "source": [
        "# Use Pandas to create a dataframe\n",
        "\n",
        "Reading the winequality-red.csv  dataset and displaying the head."
      ]
    },
    {
      "cell_type": "code",
      "metadata": {
        "id": "c53er53n20pf",
        "colab_type": "code",
        "outputId": "f21ee52d-93ad-42b5-ac2c-7a44b6c3c6ca",
        "colab": {
          "base_uri": "https://localhost:8080/",
          "height": 244
        }
      },
      "source": [
        "dataframe = pd.read_csv(\"winequality-red.csv\", dtype=float, delimiter=',')\n",
        "dataframe.head()"
      ],
      "execution_count": 0,
      "outputs": [
        {
          "output_type": "execute_result",
          "data": {
            "text/html": [
              "<div>\n",
              "<style scoped>\n",
              "    .dataframe tbody tr th:only-of-type {\n",
              "        vertical-align: middle;\n",
              "    }\n",
              "\n",
              "    .dataframe tbody tr th {\n",
              "        vertical-align: top;\n",
              "    }\n",
              "\n",
              "    .dataframe thead th {\n",
              "        text-align: right;\n",
              "    }\n",
              "</style>\n",
              "<table border=\"1\" class=\"dataframe\">\n",
              "  <thead>\n",
              "    <tr style=\"text-align: right;\">\n",
              "      <th></th>\n",
              "      <th>fixed_acidity</th>\n",
              "      <th>volatile_acidity</th>\n",
              "      <th>citric_acid</th>\n",
              "      <th>residual_sugar</th>\n",
              "      <th>chlorides</th>\n",
              "      <th>free_sulfur_dioxide</th>\n",
              "      <th>total_sulfur_dioxide</th>\n",
              "      <th>density</th>\n",
              "      <th>pH</th>\n",
              "      <th>sulphates</th>\n",
              "      <th>alcohol</th>\n",
              "      <th>quality</th>\n",
              "    </tr>\n",
              "  </thead>\n",
              "  <tbody>\n",
              "    <tr>\n",
              "      <th>0</th>\n",
              "      <td>7.4</td>\n",
              "      <td>0.70</td>\n",
              "      <td>0.00</td>\n",
              "      <td>1.9</td>\n",
              "      <td>0.076</td>\n",
              "      <td>11.0</td>\n",
              "      <td>34.0</td>\n",
              "      <td>0.9978</td>\n",
              "      <td>3.51</td>\n",
              "      <td>0.56</td>\n",
              "      <td>9.4</td>\n",
              "      <td>5.0</td>\n",
              "    </tr>\n",
              "    <tr>\n",
              "      <th>1</th>\n",
              "      <td>7.8</td>\n",
              "      <td>0.88</td>\n",
              "      <td>0.00</td>\n",
              "      <td>2.6</td>\n",
              "      <td>0.098</td>\n",
              "      <td>25.0</td>\n",
              "      <td>67.0</td>\n",
              "      <td>0.9968</td>\n",
              "      <td>3.20</td>\n",
              "      <td>0.68</td>\n",
              "      <td>9.8</td>\n",
              "      <td>5.0</td>\n",
              "    </tr>\n",
              "    <tr>\n",
              "      <th>2</th>\n",
              "      <td>7.8</td>\n",
              "      <td>0.76</td>\n",
              "      <td>0.04</td>\n",
              "      <td>2.3</td>\n",
              "      <td>0.092</td>\n",
              "      <td>15.0</td>\n",
              "      <td>54.0</td>\n",
              "      <td>0.9970</td>\n",
              "      <td>3.26</td>\n",
              "      <td>0.65</td>\n",
              "      <td>9.8</td>\n",
              "      <td>5.0</td>\n",
              "    </tr>\n",
              "    <tr>\n",
              "      <th>3</th>\n",
              "      <td>11.2</td>\n",
              "      <td>0.28</td>\n",
              "      <td>0.56</td>\n",
              "      <td>1.9</td>\n",
              "      <td>0.075</td>\n",
              "      <td>17.0</td>\n",
              "      <td>60.0</td>\n",
              "      <td>0.9980</td>\n",
              "      <td>3.16</td>\n",
              "      <td>0.58</td>\n",
              "      <td>9.8</td>\n",
              "      <td>6.0</td>\n",
              "    </tr>\n",
              "    <tr>\n",
              "      <th>4</th>\n",
              "      <td>7.4</td>\n",
              "      <td>0.70</td>\n",
              "      <td>0.00</td>\n",
              "      <td>1.9</td>\n",
              "      <td>0.076</td>\n",
              "      <td>11.0</td>\n",
              "      <td>34.0</td>\n",
              "      <td>0.9978</td>\n",
              "      <td>3.51</td>\n",
              "      <td>0.56</td>\n",
              "      <td>9.4</td>\n",
              "      <td>5.0</td>\n",
              "    </tr>\n",
              "  </tbody>\n",
              "</table>\n",
              "</div>"
            ],
            "text/plain": [
              "   fixed_acidity  volatile_acidity  citric_acid  ...  sulphates  alcohol  quality\n",
              "0            7.4              0.70         0.00  ...       0.56      9.4      5.0\n",
              "1            7.8              0.88         0.00  ...       0.68      9.8      5.0\n",
              "2            7.8              0.76         0.04  ...       0.65      9.8      5.0\n",
              "3           11.2              0.28         0.56  ...       0.58      9.8      6.0\n",
              "4            7.4              0.70         0.00  ...       0.56      9.4      5.0\n",
              "\n",
              "[5 rows x 12 columns]"
            ]
          },
          "metadata": {
            "tags": []
          },
          "execution_count": 31
        }
      ]
    },
    {
      "cell_type": "markdown",
      "metadata": {
        "id": "rWtonz8P2-jO",
        "colab_type": "text"
      },
      "source": [
        "Splitting the dataset into a test and validation set."
      ]
    },
    {
      "cell_type": "code",
      "metadata": {
        "id": "npX0TnBc_0eJ",
        "colab_type": "code",
        "outputId": "5188a5ed-8a38-4635-9187-a2be48f1b789",
        "colab": {
          "base_uri": "https://localhost:8080/",
          "height": 68
        }
      },
      "source": [
        "train, test = train_test_split(dataframe, test_size=0.2)\n",
        "train, val = train_test_split(train, test_size=0.2)\n",
        "print(len(train), 'train examples')\n",
        "print(len(val), 'validation examples')\n",
        "print(len(test), 'test examples')"
      ],
      "execution_count": 0,
      "outputs": [
        {
          "output_type": "stream",
          "text": [
            "1023 train examples\n",
            "256 validation examples\n",
            "320 test examples\n"
          ],
          "name": "stdout"
        }
      ]
    },
    {
      "cell_type": "markdown",
      "metadata": {
        "id": "PB9lcb2RAd4-",
        "colab_type": "text"
      },
      "source": [
        "# Create an input pipeline using tf.data\n",
        "\n"
      ]
    },
    {
      "cell_type": "code",
      "metadata": {
        "id": "NtrmG5eTAeSn",
        "colab_type": "code",
        "colab": {}
      },
      "source": [
        "def df_to_dataset(dataframe, shuffle=True, batch_size=32):\n",
        "  dataframe = dataframe.copy()\n",
        "  labels = dataframe.pop('quality')\n",
        "  ds = tf.data.Dataset.from_tensor_slices((dict(dataframe), labels))\n",
        "  if shuffle:\n",
        "    ds = ds.shuffle(buffer_size=len(dataframe))\n",
        "  ds = ds.batch(batch_size)\n",
        "  return ds"
      ],
      "execution_count": 0,
      "outputs": []
    },
    {
      "cell_type": "code",
      "metadata": {
        "id": "iMFHceVSDyXC",
        "colab_type": "code",
        "colab": {}
      },
      "source": [
        "batch_size = 32\n",
        "train_ds = df_to_dataset(train, batch_size=batch_size)\n",
        "val_ds = df_to_dataset(val, shuffle=False, batch_size=batch_size)\n",
        "test_ds = df_to_dataset(test, shuffle=False, batch_size=batch_size)"
      ],
      "execution_count": 0,
      "outputs": []
    },
    {
      "cell_type": "markdown",
      "metadata": {
        "id": "8t8gR_MZAgkp",
        "colab_type": "text"
      },
      "source": [
        "# Create a feature layer"
      ]
    },
    {
      "cell_type": "code",
      "metadata": {
        "id": "t_jgqHzjAi00",
        "colab_type": "code",
        "colab": {}
      },
      "source": [
        "#Definig feature_colums\n",
        "feature_columns = []\n",
        "\n",
        "# numeric cols\n",
        "for header in [\"fixed_acidity\", \"volatile_acidity\", \"citric_acid\", \"residual_sugar\", \"chlorides\", \"free_sulfur_dioxide\", \"total_sulfur_dioxide\", \"density\", \"pH\", \"sulphates\", \"alcohol\"]:\n",
        "  feature_columns.append(feature_column.numeric_column(header))\n",
        "\n",
        "feature_layer = tf.keras.layers.DenseFeatures(feature_columns)\n"
      ],
      "execution_count": 0,
      "outputs": []
    },
    {
      "cell_type": "markdown",
      "metadata": {
        "id": "s6dygag8AjXZ",
        "colab_type": "text"
      },
      "source": [
        "# Create, compile, and train the mode\n",
        "\n",
        "Setting the amount of nodes for each layer. Output layer has 10 nodes for the quality betweenn 0 and 10.\n",
        "\n",
        "Quote from wineDataesciption -\n",
        "\"quality \n",
        "between 0 (very bad) and 10 (very excellent)\"\n",
        "\n"
      ]
    },
    {
      "cell_type": "code",
      "metadata": {
        "id": "qRjPd9s4Ajg7",
        "colab_type": "code",
        "colab": {}
      },
      "source": [
        "model = tf.keras.Sequential([\n",
        "  feature_layer,\n",
        "  layers.Dense(64, activation='relu'),\n",
        "  layers.Dense(128, activation='relu'),\n",
        "  layers.Dense(64, activation='relu'),\n",
        "  layers.Dense(10, activation='softmax')\n",
        "])"
      ],
      "execution_count": 0,
      "outputs": []
    },
    {
      "cell_type": "markdown",
      "metadata": {
        "id": "suuludAWAs51",
        "colab_type": "text"
      },
      "source": [
        "Using the spasparse categorical crossentropy, because we have 10 label classes.\n",
        "\n",
        "linke to API from [SparseCategoricalCrossentropy](hhttps://www.tensorflow.org/versions/r2.0/api_docs/python/tf/keras/losses/SparseCategoricalCrossentropy)"
      ]
    },
    {
      "cell_type": "code",
      "metadata": {
        "id": "Ea_AV-LuAtCl",
        "colab_type": "code",
        "colab": {}
      },
      "source": [
        "model.compile(optimizer='adam',\n",
        "              loss='sparse_categorical_crossentropy',\n",
        "              metrics=['accuracy'])"
      ],
      "execution_count": 0,
      "outputs": []
    },
    {
      "cell_type": "markdown",
      "metadata": {
        "id": "0tviWZ_HAvU_",
        "colab_type": "text"
      },
      "source": [
        "Using only 10 epochs to not overfit our model.\n",
        "\n"
      ]
    },
    {
      "cell_type": "code",
      "metadata": {
        "id": "g5mGwVMuAvdY",
        "colab_type": "code",
        "outputId": "cfc9011e-877a-4ee0-d18d-96faa9252a73",
        "colab": {
          "base_uri": "https://localhost:8080/",
          "height": 414
        }
      },
      "source": [
        "print('Train data set')\n",
        "model.fit(train_ds,\n",
        "          validation_data=val_ds,\n",
        "          epochs=10)"
      ],
      "execution_count": 0,
      "outputs": [
        {
          "output_type": "stream",
          "text": [
            "Train data set\n",
            "Epoch 1/10\n",
            "32/32 [==============================] - 2s 49ms/step - loss: 2.1360 - accuracy: 0.2880 - val_loss: 1.3579 - val_accuracy: 0.5078\n",
            "Epoch 2/10\n",
            "32/32 [==============================] - 0s 6ms/step - loss: 1.2644 - accuracy: 0.4525 - val_loss: 1.2341 - val_accuracy: 0.4648\n",
            "Epoch 3/10\n",
            "32/32 [==============================] - 0s 6ms/step - loss: 1.1662 - accuracy: 0.4494 - val_loss: 1.1622 - val_accuracy: 0.5117\n",
            "Epoch 4/10\n",
            "32/32 [==============================] - 0s 6ms/step - loss: 1.1491 - accuracy: 0.4722 - val_loss: 1.1478 - val_accuracy: 0.5273\n",
            "Epoch 5/10\n",
            "32/32 [==============================] - 0s 6ms/step - loss: 1.1394 - accuracy: 0.4702 - val_loss: 1.1460 - val_accuracy: 0.5156\n",
            "Epoch 6/10\n",
            "32/32 [==============================] - 0s 5ms/step - loss: 1.1333 - accuracy: 0.4895 - val_loss: 1.1332 - val_accuracy: 0.5195\n",
            "Epoch 7/10\n",
            "32/32 [==============================] - 0s 6ms/step - loss: 1.1299 - accuracy: 0.4720 - val_loss: 1.1355 - val_accuracy: 0.5352\n",
            "Epoch 8/10\n",
            "32/32 [==============================] - 0s 6ms/step - loss: 1.1253 - accuracy: 0.4678 - val_loss: 1.1279 - val_accuracy: 0.5352\n",
            "Epoch 9/10\n",
            "32/32 [==============================] - 0s 6ms/step - loss: 1.1213 - accuracy: 0.4854 - val_loss: 1.1326 - val_accuracy: 0.5234\n",
            "Epoch 10/10\n",
            "32/32 [==============================] - 0s 6ms/step - loss: 1.1176 - accuracy: 0.4727 - val_loss: 1.1194 - val_accuracy: 0.5430\n"
          ],
          "name": "stdout"
        },
        {
          "output_type": "execute_result",
          "data": {
            "text/plain": [
              "<tensorflow.python.keras.callbacks.History at 0x7fdd3b1a70f0>"
            ]
          },
          "metadata": {
            "tags": []
          },
          "execution_count": 38
        }
      ]
    },
    {
      "cell_type": "markdown",
      "metadata": {
        "id": "EKkEWkwVAxR3",
        "colab_type": "text"
      },
      "source": [
        "Testing model on test data set."
      ]
    },
    {
      "cell_type": "code",
      "metadata": {
        "id": "1ULj6rmVAxZZ",
        "colab_type": "code",
        "outputId": "b5365f68-bc57-45a1-91e1-2c0d775580c0",
        "colab": {
          "base_uri": "https://localhost:8080/",
          "height": 68
        }
      },
      "source": [
        "print('Test data set')\n",
        "loss, accuracy = model.evaluate(test_ds)\n",
        "print(\"Validation accuracy\", accuracy)"
      ],
      "execution_count": 0,
      "outputs": [
        {
          "output_type": "stream",
          "text": [
            "Test data set\n",
            "10/10 [==============================] - 0s 4ms/step - loss: 1.2100 - accuracy: 0.5469\n",
            "Validation accuracy 0.546875\n"
          ],
          "name": "stdout"
        }
      ]
    },
    {
      "cell_type": "markdown",
      "metadata": {
        "id": "sAYX8r7qJsLt",
        "colab_type": "text"
      },
      "source": [
        "# Overfitting\n",
        "\n",
        "Using 200 epochs to see that the accuracy between the train data set and the test data set differ, wich is an indicator that the model is overfitting on the train data set. \n",
        "(val_accuracy = accuracy form the model on the test data set)"
      ]
    },
    {
      "cell_type": "code",
      "metadata": {
        "id": "lmcXpxBWJvzT",
        "colab_type": "code",
        "outputId": "d573c5d6-c9d4-4959-ded4-11eaa4459c73",
        "colab": {
          "base_uri": "https://localhost:8080/",
          "height": 6905
        }
      },
      "source": [
        "print('Train data set')\n",
        "model.fit(train_ds,\n",
        "          validation_data=val_ds,\n",
        "          epochs=200)\n",
        "\n",
        "print('Test data set')\n",
        "loss, accuracy = model.evaluate(test_ds)\n",
        "print(\"Validation accuracy\", accuracy)"
      ],
      "execution_count": 0,
      "outputs": [
        {
          "output_type": "stream",
          "text": [
            "Train data set\n",
            "Epoch 1/200\n",
            "32/32 [==============================] - 0s 6ms/step - loss: 1.1137 - accuracy: 0.5122 - val_loss: 1.1233 - val_accuracy: 0.5273\n",
            "Epoch 2/200\n",
            "32/32 [==============================] - 0s 6ms/step - loss: 1.1086 - accuracy: 0.5132 - val_loss: 1.1133 - val_accuracy: 0.5391\n",
            "Epoch 3/200\n",
            "32/32 [==============================] - 0s 6ms/step - loss: 1.1055 - accuracy: 0.5269 - val_loss: 1.1124 - val_accuracy: 0.5312\n",
            "Epoch 4/200\n",
            "32/32 [==============================] - 0s 6ms/step - loss: 1.0994 - accuracy: 0.5200 - val_loss: 1.1085 - val_accuracy: 0.5117\n",
            "Epoch 5/200\n",
            "32/32 [==============================] - 0s 5ms/step - loss: 1.0953 - accuracy: 0.5181 - val_loss: 1.1039 - val_accuracy: 0.5391\n",
            "Epoch 6/200\n",
            "32/32 [==============================] - 0s 5ms/step - loss: 1.0915 - accuracy: 0.5249 - val_loss: 1.0980 - val_accuracy: 0.5625\n",
            "Epoch 7/200\n",
            "32/32 [==============================] - 0s 5ms/step - loss: 1.0884 - accuracy: 0.5288 - val_loss: 1.0921 - val_accuracy: 0.5508\n",
            "Epoch 8/200\n",
            "32/32 [==============================] - 0s 5ms/step - loss: 1.0824 - accuracy: 0.5308 - val_loss: 1.0891 - val_accuracy: 0.5547\n",
            "Epoch 9/200\n",
            "32/32 [==============================] - 0s 6ms/step - loss: 1.0780 - accuracy: 0.5288 - val_loss: 1.0862 - val_accuracy: 0.5547\n",
            "Epoch 10/200\n",
            "32/32 [==============================] - 0s 6ms/step - loss: 1.0716 - accuracy: 0.5415 - val_loss: 1.0758 - val_accuracy: 0.5664\n",
            "Epoch 11/200\n",
            "32/32 [==============================] - 0s 5ms/step - loss: 1.0646 - accuracy: 0.5367 - val_loss: 1.0950 - val_accuracy: 0.5508\n",
            "Epoch 12/200\n",
            "32/32 [==============================] - 0s 6ms/step - loss: 1.0674 - accuracy: 0.5386 - val_loss: 1.0623 - val_accuracy: 0.5625\n",
            "Epoch 13/200\n",
            "32/32 [==============================] - 0s 6ms/step - loss: 1.0533 - accuracy: 0.5367 - val_loss: 1.0480 - val_accuracy: 0.5859\n",
            "Epoch 14/200\n",
            "32/32 [==============================] - 0s 6ms/step - loss: 1.0425 - accuracy: 0.5445 - val_loss: 1.0503 - val_accuracy: 0.5820\n",
            "Epoch 15/200\n",
            "32/32 [==============================] - 0s 6ms/step - loss: 1.0380 - accuracy: 0.5533 - val_loss: 1.0442 - val_accuracy: 0.5742\n",
            "Epoch 16/200\n",
            "32/32 [==============================] - 0s 6ms/step - loss: 1.0282 - accuracy: 0.5484 - val_loss: 1.0516 - val_accuracy: 0.5586\n",
            "Epoch 17/200\n",
            "32/32 [==============================] - 0s 6ms/step - loss: 1.0264 - accuracy: 0.5474 - val_loss: 1.0363 - val_accuracy: 0.5703\n",
            "Epoch 18/200\n",
            "32/32 [==============================] - 0s 6ms/step - loss: 1.0182 - accuracy: 0.5543 - val_loss: 1.0384 - val_accuracy: 0.5664\n",
            "Epoch 19/200\n",
            "32/32 [==============================] - 0s 5ms/step - loss: 1.0171 - accuracy: 0.5455 - val_loss: 1.0205 - val_accuracy: 0.5859\n",
            "Epoch 20/200\n",
            "32/32 [==============================] - 0s 5ms/step - loss: 1.0107 - accuracy: 0.5543 - val_loss: 1.0117 - val_accuracy: 0.5742\n",
            "Epoch 21/200\n",
            "32/32 [==============================] - 0s 6ms/step - loss: 0.9983 - accuracy: 0.5591 - val_loss: 1.0109 - val_accuracy: 0.5820\n",
            "Epoch 22/200\n",
            "32/32 [==============================] - 0s 6ms/step - loss: 0.9959 - accuracy: 0.5543 - val_loss: 1.0095 - val_accuracy: 0.5703\n",
            "Epoch 23/200\n",
            "32/32 [==============================] - 0s 6ms/step - loss: 0.9909 - accuracy: 0.5611 - val_loss: 1.0053 - val_accuracy: 0.5703\n",
            "Epoch 24/200\n",
            "32/32 [==============================] - 0s 6ms/step - loss: 0.9854 - accuracy: 0.5582 - val_loss: 1.0045 - val_accuracy: 0.5703\n",
            "Epoch 25/200\n",
            "32/32 [==============================] - 0s 6ms/step - loss: 0.9820 - accuracy: 0.5640 - val_loss: 0.9997 - val_accuracy: 0.5781\n",
            "Epoch 26/200\n",
            "32/32 [==============================] - 0s 6ms/step - loss: 0.9773 - accuracy: 0.5640 - val_loss: 0.9928 - val_accuracy: 0.5820\n",
            "Epoch 27/200\n",
            "32/32 [==============================] - 0s 6ms/step - loss: 0.9719 - accuracy: 0.5748 - val_loss: 0.9879 - val_accuracy: 0.5781\n",
            "Epoch 28/200\n",
            "32/32 [==============================] - 0s 7ms/step - loss: 0.9653 - accuracy: 0.5767 - val_loss: 0.9890 - val_accuracy: 0.5820\n",
            "Epoch 29/200\n",
            "32/32 [==============================] - 0s 6ms/step - loss: 0.9631 - accuracy: 0.5758 - val_loss: 0.9795 - val_accuracy: 0.5820\n",
            "Epoch 30/200\n",
            "32/32 [==============================] - 0s 6ms/step - loss: 0.9563 - accuracy: 0.5816 - val_loss: 0.9803 - val_accuracy: 0.5820\n",
            "Epoch 31/200\n",
            "32/32 [==============================] - 0s 5ms/step - loss: 0.9521 - accuracy: 0.5865 - val_loss: 0.9796 - val_accuracy: 0.5703\n",
            "Epoch 32/200\n",
            "32/32 [==============================] - 0s 5ms/step - loss: 0.9528 - accuracy: 0.5826 - val_loss: 0.9763 - val_accuracy: 0.5703\n",
            "Epoch 33/200\n",
            "32/32 [==============================] - 0s 6ms/step - loss: 0.9469 - accuracy: 0.5953 - val_loss: 0.9776 - val_accuracy: 0.5703\n",
            "Epoch 34/200\n",
            "32/32 [==============================] - 0s 6ms/step - loss: 0.9440 - accuracy: 0.5846 - val_loss: 0.9747 - val_accuracy: 0.5742\n",
            "Epoch 35/200\n",
            "32/32 [==============================] - 0s 5ms/step - loss: 0.9401 - accuracy: 0.5934 - val_loss: 0.9728 - val_accuracy: 0.5820\n",
            "Epoch 36/200\n",
            "32/32 [==============================] - 0s 6ms/step - loss: 0.9392 - accuracy: 0.5865 - val_loss: 0.9735 - val_accuracy: 0.5820\n",
            "Epoch 37/200\n",
            "32/32 [==============================] - 0s 6ms/step - loss: 0.9356 - accuracy: 0.5924 - val_loss: 0.9689 - val_accuracy: 0.5820\n",
            "Epoch 38/200\n",
            "32/32 [==============================] - 0s 6ms/step - loss: 0.9313 - accuracy: 0.5914 - val_loss: 0.9733 - val_accuracy: 0.5664\n",
            "Epoch 39/200\n",
            "32/32 [==============================] - 0s 6ms/step - loss: 0.9305 - accuracy: 0.5914 - val_loss: 0.9764 - val_accuracy: 0.5898\n",
            "Epoch 40/200\n",
            "32/32 [==============================] - 0s 6ms/step - loss: 0.9291 - accuracy: 0.5963 - val_loss: 0.9686 - val_accuracy: 0.5859\n",
            "Epoch 41/200\n",
            "32/32 [==============================] - 0s 6ms/step - loss: 0.9241 - accuracy: 0.5963 - val_loss: 0.9672 - val_accuracy: 0.5859\n",
            "Epoch 42/200\n",
            "32/32 [==============================] - 0s 6ms/step - loss: 0.9216 - accuracy: 0.5982 - val_loss: 0.9713 - val_accuracy: 0.5898\n",
            "Epoch 43/200\n",
            "32/32 [==============================] - 0s 7ms/step - loss: 0.9179 - accuracy: 0.5953 - val_loss: 0.9718 - val_accuracy: 0.5898\n",
            "Epoch 44/200\n",
            "32/32 [==============================] - 0s 6ms/step - loss: 0.9176 - accuracy: 0.5963 - val_loss: 0.9654 - val_accuracy: 0.5898\n",
            "Epoch 45/200\n",
            "32/32 [==============================] - 0s 6ms/step - loss: 0.9137 - accuracy: 0.6002 - val_loss: 0.9734 - val_accuracy: 0.5898\n",
            "Epoch 46/200\n",
            "32/32 [==============================] - 0s 6ms/step - loss: 0.9125 - accuracy: 0.5943 - val_loss: 0.9772 - val_accuracy: 0.5781\n",
            "Epoch 47/200\n",
            "32/32 [==============================] - 0s 6ms/step - loss: 0.9113 - accuracy: 0.6012 - val_loss: 0.9711 - val_accuracy: 0.5977\n",
            "Epoch 48/200\n",
            "32/32 [==============================] - 0s 7ms/step - loss: 0.9061 - accuracy: 0.6041 - val_loss: 0.9695 - val_accuracy: 0.5938\n",
            "Epoch 49/200\n",
            "32/32 [==============================] - 0s 6ms/step - loss: 0.9048 - accuracy: 0.6041 - val_loss: 0.9714 - val_accuracy: 0.6016\n",
            "Epoch 50/200\n",
            "32/32 [==============================] - 0s 5ms/step - loss: 0.9026 - accuracy: 0.6031 - val_loss: 0.9760 - val_accuracy: 0.5938\n",
            "Epoch 51/200\n",
            "32/32 [==============================] - 0s 6ms/step - loss: 0.9007 - accuracy: 0.6070 - val_loss: 0.9700 - val_accuracy: 0.5977\n",
            "Epoch 52/200\n",
            "32/32 [==============================] - 0s 6ms/step - loss: 0.8940 - accuracy: 0.6129 - val_loss: 0.9707 - val_accuracy: 0.5898\n",
            "Epoch 53/200\n",
            "32/32 [==============================] - 0s 6ms/step - loss: 0.8948 - accuracy: 0.6090 - val_loss: 0.9690 - val_accuracy: 0.5977\n",
            "Epoch 54/200\n",
            "32/32 [==============================] - 0s 6ms/step - loss: 0.8934 - accuracy: 0.6080 - val_loss: 0.9732 - val_accuracy: 0.6016\n",
            "Epoch 55/200\n",
            "32/32 [==============================] - 0s 6ms/step - loss: 0.8900 - accuracy: 0.6129 - val_loss: 0.9696 - val_accuracy: 0.5977\n",
            "Epoch 56/200\n",
            "32/32 [==============================] - 0s 6ms/step - loss: 0.8883 - accuracy: 0.6158 - val_loss: 0.9677 - val_accuracy: 0.6016\n",
            "Epoch 57/200\n",
            "32/32 [==============================] - 0s 5ms/step - loss: 0.8839 - accuracy: 0.6178 - val_loss: 0.9691 - val_accuracy: 0.6016\n",
            "Epoch 58/200\n",
            "32/32 [==============================] - 0s 6ms/step - loss: 0.8828 - accuracy: 0.6207 - val_loss: 0.9669 - val_accuracy: 0.5977\n",
            "Epoch 59/200\n",
            "32/32 [==============================] - 0s 6ms/step - loss: 0.8798 - accuracy: 0.6207 - val_loss: 0.9675 - val_accuracy: 0.6016\n",
            "Epoch 60/200\n",
            "32/32 [==============================] - 0s 6ms/step - loss: 0.8763 - accuracy: 0.6197 - val_loss: 0.9688 - val_accuracy: 0.6055\n",
            "Epoch 61/200\n",
            "32/32 [==============================] - 0s 6ms/step - loss: 0.8747 - accuracy: 0.6246 - val_loss: 0.9738 - val_accuracy: 0.5938\n",
            "Epoch 62/200\n",
            "32/32 [==============================] - 0s 6ms/step - loss: 0.8723 - accuracy: 0.6256 - val_loss: 0.9760 - val_accuracy: 0.5977\n",
            "Epoch 63/200\n",
            "32/32 [==============================] - 0s 7ms/step - loss: 0.8721 - accuracy: 0.6256 - val_loss: 0.9788 - val_accuracy: 0.5859\n",
            "Epoch 64/200\n",
            "32/32 [==============================] - 0s 5ms/step - loss: 0.8726 - accuracy: 0.6197 - val_loss: 0.9816 - val_accuracy: 0.5820\n",
            "Epoch 65/200\n",
            "32/32 [==============================] - 0s 5ms/step - loss: 0.8707 - accuracy: 0.6246 - val_loss: 0.9804 - val_accuracy: 0.5820\n",
            "Epoch 66/200\n",
            "32/32 [==============================] - 0s 6ms/step - loss: 0.8679 - accuracy: 0.6256 - val_loss: 0.9756 - val_accuracy: 0.5820\n",
            "Epoch 67/200\n",
            "32/32 [==============================] - 0s 5ms/step - loss: 0.8685 - accuracy: 0.6246 - val_loss: 0.9729 - val_accuracy: 0.5859\n",
            "Epoch 68/200\n",
            "32/32 [==============================] - 0s 6ms/step - loss: 0.8629 - accuracy: 0.6315 - val_loss: 0.9764 - val_accuracy: 0.5859\n",
            "Epoch 69/200\n",
            "32/32 [==============================] - 0s 5ms/step - loss: 0.8608 - accuracy: 0.6325 - val_loss: 0.9762 - val_accuracy: 0.5898\n",
            "Epoch 70/200\n",
            "32/32 [==============================] - 0s 6ms/step - loss: 0.8588 - accuracy: 0.6432 - val_loss: 0.9720 - val_accuracy: 0.5938\n",
            "Epoch 71/200\n",
            "32/32 [==============================] - 0s 5ms/step - loss: 0.8560 - accuracy: 0.6354 - val_loss: 0.9737 - val_accuracy: 0.5898\n",
            "Epoch 72/200\n",
            "32/32 [==============================] - 0s 6ms/step - loss: 0.8531 - accuracy: 0.6364 - val_loss: 0.9839 - val_accuracy: 0.5977\n",
            "Epoch 73/200\n",
            "32/32 [==============================] - 0s 6ms/step - loss: 0.8499 - accuracy: 0.6285 - val_loss: 0.9805 - val_accuracy: 0.6016\n",
            "Epoch 74/200\n",
            "32/32 [==============================] - 0s 6ms/step - loss: 0.8468 - accuracy: 0.6325 - val_loss: 0.9758 - val_accuracy: 0.5977\n",
            "Epoch 75/200\n",
            "32/32 [==============================] - 0s 7ms/step - loss: 0.8464 - accuracy: 0.6364 - val_loss: 0.9840 - val_accuracy: 0.5898\n",
            "Epoch 76/200\n",
            "32/32 [==============================] - 0s 5ms/step - loss: 0.8429 - accuracy: 0.6393 - val_loss: 0.9822 - val_accuracy: 0.5898\n",
            "Epoch 77/200\n",
            "32/32 [==============================] - 0s 6ms/step - loss: 0.8427 - accuracy: 0.6364 - val_loss: 0.9842 - val_accuracy: 0.5859\n",
            "Epoch 78/200\n",
            "32/32 [==============================] - 0s 7ms/step - loss: 0.8393 - accuracy: 0.6413 - val_loss: 0.9832 - val_accuracy: 0.5898\n",
            "Epoch 79/200\n",
            "32/32 [==============================] - 0s 6ms/step - loss: 0.8381 - accuracy: 0.6442 - val_loss: 0.9863 - val_accuracy: 0.5898\n",
            "Epoch 80/200\n",
            "32/32 [==============================] - 0s 6ms/step - loss: 0.8344 - accuracy: 0.6325 - val_loss: 0.9798 - val_accuracy: 0.5938\n",
            "Epoch 81/200\n",
            "32/32 [==============================] - 0s 5ms/step - loss: 0.8332 - accuracy: 0.6471 - val_loss: 0.9828 - val_accuracy: 0.5938\n",
            "Epoch 82/200\n",
            "32/32 [==============================] - 0s 5ms/step - loss: 0.8325 - accuracy: 0.6452 - val_loss: 0.9893 - val_accuracy: 0.5859\n",
            "Epoch 83/200\n",
            "32/32 [==============================] - 0s 6ms/step - loss: 0.8301 - accuracy: 0.6471 - val_loss: 0.9952 - val_accuracy: 0.5820\n",
            "Epoch 84/200\n",
            "32/32 [==============================] - 0s 5ms/step - loss: 0.8263 - accuracy: 0.6461 - val_loss: 0.9966 - val_accuracy: 0.5781\n",
            "Epoch 85/200\n",
            "32/32 [==============================] - 0s 6ms/step - loss: 0.8276 - accuracy: 0.6461 - val_loss: 0.9912 - val_accuracy: 0.5820\n",
            "Epoch 86/200\n",
            "32/32 [==============================] - 0s 6ms/step - loss: 0.8228 - accuracy: 0.6520 - val_loss: 0.9903 - val_accuracy: 0.5859\n",
            "Epoch 87/200\n",
            "32/32 [==============================] - 0s 6ms/step - loss: 0.8238 - accuracy: 0.6510 - val_loss: 0.9928 - val_accuracy: 0.5781\n",
            "Epoch 88/200\n",
            "32/32 [==============================] - 0s 6ms/step - loss: 0.8179 - accuracy: 0.6540 - val_loss: 0.9980 - val_accuracy: 0.5703\n",
            "Epoch 89/200\n",
            "32/32 [==============================] - 0s 6ms/step - loss: 0.8204 - accuracy: 0.6549 - val_loss: 0.9906 - val_accuracy: 0.5820\n",
            "Epoch 90/200\n",
            "32/32 [==============================] - 0s 6ms/step - loss: 0.8175 - accuracy: 0.6569 - val_loss: 1.0014 - val_accuracy: 0.5742\n",
            "Epoch 91/200\n",
            "32/32 [==============================] - 0s 5ms/step - loss: 0.8159 - accuracy: 0.6530 - val_loss: 0.9990 - val_accuracy: 0.5781\n",
            "Epoch 92/200\n",
            "32/32 [==============================] - 0s 6ms/step - loss: 0.8137 - accuracy: 0.6647 - val_loss: 1.0018 - val_accuracy: 0.5938\n",
            "Epoch 93/200\n",
            "32/32 [==============================] - 0s 6ms/step - loss: 0.8149 - accuracy: 0.6696 - val_loss: 1.0030 - val_accuracy: 0.5781\n",
            "Epoch 94/200\n",
            "32/32 [==============================] - 0s 5ms/step - loss: 0.8099 - accuracy: 0.6657 - val_loss: 1.0053 - val_accuracy: 0.5820\n",
            "Epoch 95/200\n",
            "32/32 [==============================] - 0s 5ms/step - loss: 0.8101 - accuracy: 0.6628 - val_loss: 1.0153 - val_accuracy: 0.5859\n",
            "Epoch 96/200\n",
            "32/32 [==============================] - 0s 6ms/step - loss: 0.8089 - accuracy: 0.6686 - val_loss: 1.0138 - val_accuracy: 0.5820\n",
            "Epoch 97/200\n",
            "32/32 [==============================] - 0s 6ms/step - loss: 0.8050 - accuracy: 0.6696 - val_loss: 1.0153 - val_accuracy: 0.5938\n",
            "Epoch 98/200\n",
            "32/32 [==============================] - 0s 6ms/step - loss: 0.8061 - accuracy: 0.6637 - val_loss: 1.0138 - val_accuracy: 0.5859\n",
            "Epoch 99/200\n",
            "32/32 [==============================] - 0s 6ms/step - loss: 0.8038 - accuracy: 0.6657 - val_loss: 1.0183 - val_accuracy: 0.5898\n",
            "Epoch 100/200\n",
            "32/32 [==============================] - 0s 6ms/step - loss: 0.8014 - accuracy: 0.6647 - val_loss: 1.0293 - val_accuracy: 0.5781\n",
            "Epoch 101/200\n",
            "32/32 [==============================] - 0s 7ms/step - loss: 0.7984 - accuracy: 0.6637 - val_loss: 1.0207 - val_accuracy: 0.5898\n",
            "Epoch 102/200\n",
            "32/32 [==============================] - 0s 6ms/step - loss: 0.7963 - accuracy: 0.6618 - val_loss: 1.0301 - val_accuracy: 0.5977\n",
            "Epoch 103/200\n",
            "32/32 [==============================] - 0s 7ms/step - loss: 0.7949 - accuracy: 0.6676 - val_loss: 1.0328 - val_accuracy: 0.5742\n",
            "Epoch 104/200\n",
            "32/32 [==============================] - 0s 6ms/step - loss: 0.7922 - accuracy: 0.6618 - val_loss: 1.0303 - val_accuracy: 0.6094\n",
            "Epoch 105/200\n",
            "32/32 [==============================] - 0s 6ms/step - loss: 0.7911 - accuracy: 0.6716 - val_loss: 1.0317 - val_accuracy: 0.5938\n",
            "Epoch 106/200\n",
            "32/32 [==============================] - 0s 5ms/step - loss: 0.7881 - accuracy: 0.6696 - val_loss: 1.0337 - val_accuracy: 0.5664\n",
            "Epoch 107/200\n",
            "32/32 [==============================] - 0s 6ms/step - loss: 0.7833 - accuracy: 0.6628 - val_loss: 1.0303 - val_accuracy: 0.5781\n",
            "Epoch 108/200\n",
            "32/32 [==============================] - 0s 7ms/step - loss: 0.7796 - accuracy: 0.6667 - val_loss: 1.0341 - val_accuracy: 0.5898\n",
            "Epoch 109/200\n",
            "32/32 [==============================] - 0s 5ms/step - loss: 0.7795 - accuracy: 0.6706 - val_loss: 1.0392 - val_accuracy: 0.6016\n",
            "Epoch 110/200\n",
            "32/32 [==============================] - 0s 5ms/step - loss: 0.7781 - accuracy: 0.6657 - val_loss: 1.0393 - val_accuracy: 0.5898\n",
            "Epoch 111/200\n",
            "32/32 [==============================] - 0s 6ms/step - loss: 0.7757 - accuracy: 0.6725 - val_loss: 1.0330 - val_accuracy: 0.5898\n",
            "Epoch 112/200\n",
            "32/32 [==============================] - 0s 6ms/step - loss: 0.7690 - accuracy: 0.6667 - val_loss: 1.0367 - val_accuracy: 0.5781\n",
            "Epoch 113/200\n",
            "32/32 [==============================] - 0s 6ms/step - loss: 0.7672 - accuracy: 0.6833 - val_loss: 1.0369 - val_accuracy: 0.5742\n",
            "Epoch 114/200\n",
            "32/32 [==============================] - 0s 6ms/step - loss: 0.7685 - accuracy: 0.6725 - val_loss: 1.0520 - val_accuracy: 0.5781\n",
            "Epoch 115/200\n",
            "32/32 [==============================] - 0s 6ms/step - loss: 0.7658 - accuracy: 0.6774 - val_loss: 1.0461 - val_accuracy: 0.5859\n",
            "Epoch 116/200\n",
            "32/32 [==============================] - 0s 5ms/step - loss: 0.7640 - accuracy: 0.6764 - val_loss: 1.0440 - val_accuracy: 0.5820\n",
            "Epoch 117/200\n",
            "32/32 [==============================] - 0s 5ms/step - loss: 0.7633 - accuracy: 0.6764 - val_loss: 1.0578 - val_accuracy: 0.5781\n",
            "Epoch 118/200\n",
            "32/32 [==============================] - 0s 5ms/step - loss: 0.7644 - accuracy: 0.6833 - val_loss: 1.0662 - val_accuracy: 0.5898\n",
            "Epoch 119/200\n",
            "32/32 [==============================] - 0s 6ms/step - loss: 0.7581 - accuracy: 0.6735 - val_loss: 1.0540 - val_accuracy: 0.5781\n",
            "Epoch 120/200\n",
            "32/32 [==============================] - 0s 6ms/step - loss: 0.7559 - accuracy: 0.6891 - val_loss: 1.0542 - val_accuracy: 0.5898\n",
            "Epoch 121/200\n",
            "32/32 [==============================] - 0s 6ms/step - loss: 0.7589 - accuracy: 0.6852 - val_loss: 1.0744 - val_accuracy: 0.5742\n",
            "Epoch 122/200\n",
            "32/32 [==============================] - 0s 5ms/step - loss: 0.7533 - accuracy: 0.6813 - val_loss: 1.0719 - val_accuracy: 0.5781\n",
            "Epoch 123/200\n",
            "32/32 [==============================] - 0s 5ms/step - loss: 0.7529 - accuracy: 0.6882 - val_loss: 1.0559 - val_accuracy: 0.5859\n",
            "Epoch 124/200\n",
            "32/32 [==============================] - 0s 5ms/step - loss: 0.7534 - accuracy: 0.6843 - val_loss: 1.0657 - val_accuracy: 0.5664\n",
            "Epoch 125/200\n",
            "32/32 [==============================] - 0s 7ms/step - loss: 0.7509 - accuracy: 0.6901 - val_loss: 1.0597 - val_accuracy: 0.5781\n",
            "Epoch 126/200\n",
            "32/32 [==============================] - 0s 5ms/step - loss: 0.7492 - accuracy: 0.6872 - val_loss: 1.0807 - val_accuracy: 0.5742\n",
            "Epoch 127/200\n",
            "32/32 [==============================] - 0s 5ms/step - loss: 0.7461 - accuracy: 0.6940 - val_loss: 1.0697 - val_accuracy: 0.5781\n",
            "Epoch 128/200\n",
            "32/32 [==============================] - 0s 5ms/step - loss: 0.7457 - accuracy: 0.6970 - val_loss: 1.0851 - val_accuracy: 0.5664\n",
            "Epoch 129/200\n",
            "32/32 [==============================] - 0s 6ms/step - loss: 0.7454 - accuracy: 0.6901 - val_loss: 1.0706 - val_accuracy: 0.5742\n",
            "Epoch 130/200\n",
            "32/32 [==============================] - 0s 6ms/step - loss: 0.7410 - accuracy: 0.6911 - val_loss: 1.0851 - val_accuracy: 0.5742\n",
            "Epoch 131/200\n",
            "32/32 [==============================] - 0s 6ms/step - loss: 0.7445 - accuracy: 0.6940 - val_loss: 1.0785 - val_accuracy: 0.5820\n",
            "Epoch 132/200\n",
            "32/32 [==============================] - 0s 5ms/step - loss: 0.7384 - accuracy: 0.6960 - val_loss: 1.0781 - val_accuracy: 0.5859\n",
            "Epoch 133/200\n",
            "32/32 [==============================] - 0s 6ms/step - loss: 0.7343 - accuracy: 0.6960 - val_loss: 1.0784 - val_accuracy: 0.5781\n",
            "Epoch 134/200\n",
            "32/32 [==============================] - 0s 6ms/step - loss: 0.7344 - accuracy: 0.6950 - val_loss: 1.0809 - val_accuracy: 0.5938\n",
            "Epoch 135/200\n",
            "32/32 [==============================] - 0s 6ms/step - loss: 0.7380 - accuracy: 0.6970 - val_loss: 1.0755 - val_accuracy: 0.5820\n",
            "Epoch 136/200\n",
            "32/32 [==============================] - 0s 5ms/step - loss: 0.7387 - accuracy: 0.6989 - val_loss: 1.0954 - val_accuracy: 0.5820\n",
            "Epoch 137/200\n",
            "32/32 [==============================] - 0s 5ms/step - loss: 0.7382 - accuracy: 0.7019 - val_loss: 1.0995 - val_accuracy: 0.5742\n",
            "Epoch 138/200\n",
            "32/32 [==============================] - 0s 6ms/step - loss: 0.7371 - accuracy: 0.7038 - val_loss: 1.0974 - val_accuracy: 0.5977\n",
            "Epoch 139/200\n",
            "32/32 [==============================] - 0s 6ms/step - loss: 0.7323 - accuracy: 0.6970 - val_loss: 1.1020 - val_accuracy: 0.5977\n",
            "Epoch 140/200\n",
            "32/32 [==============================] - 0s 6ms/step - loss: 0.7249 - accuracy: 0.6940 - val_loss: 1.0998 - val_accuracy: 0.5938\n",
            "Epoch 141/200\n",
            "32/32 [==============================] - 0s 6ms/step - loss: 0.7242 - accuracy: 0.6950 - val_loss: 1.1096 - val_accuracy: 0.5820\n",
            "Epoch 142/200\n",
            "32/32 [==============================] - 0s 5ms/step - loss: 0.7265 - accuracy: 0.6970 - val_loss: 1.0942 - val_accuracy: 0.5977\n",
            "Epoch 143/200\n",
            "32/32 [==============================] - 0s 6ms/step - loss: 0.7230 - accuracy: 0.6989 - val_loss: 1.1036 - val_accuracy: 0.6016\n",
            "Epoch 144/200\n",
            "32/32 [==============================] - 0s 6ms/step - loss: 0.7208 - accuracy: 0.7028 - val_loss: 1.0975 - val_accuracy: 0.6172\n",
            "Epoch 145/200\n",
            "32/32 [==============================] - 0s 6ms/step - loss: 0.7238 - accuracy: 0.7019 - val_loss: 1.1086 - val_accuracy: 0.6094\n",
            "Epoch 146/200\n",
            "32/32 [==============================] - 0s 5ms/step - loss: 0.7189 - accuracy: 0.6989 - val_loss: 1.1037 - val_accuracy: 0.6133\n",
            "Epoch 147/200\n",
            "32/32 [==============================] - 0s 5ms/step - loss: 0.7153 - accuracy: 0.7097 - val_loss: 1.1094 - val_accuracy: 0.6055\n",
            "Epoch 148/200\n",
            "32/32 [==============================] - 0s 6ms/step - loss: 0.7097 - accuracy: 0.7048 - val_loss: 1.1097 - val_accuracy: 0.6016\n",
            "Epoch 149/200\n",
            "32/32 [==============================] - 0s 5ms/step - loss: 0.7141 - accuracy: 0.7058 - val_loss: 1.1128 - val_accuracy: 0.5977\n",
            "Epoch 150/200\n",
            "32/32 [==============================] - 0s 5ms/step - loss: 0.7113 - accuracy: 0.7097 - val_loss: 1.1299 - val_accuracy: 0.5820\n",
            "Epoch 151/200\n",
            "32/32 [==============================] - 0s 5ms/step - loss: 0.7101 - accuracy: 0.7058 - val_loss: 1.1179 - val_accuracy: 0.5938\n",
            "Epoch 152/200\n",
            "32/32 [==============================] - 0s 6ms/step - loss: 0.7031 - accuracy: 0.6999 - val_loss: 1.1146 - val_accuracy: 0.5938\n",
            "Epoch 153/200\n",
            "32/32 [==============================] - 0s 6ms/step - loss: 0.7011 - accuracy: 0.7067 - val_loss: 1.1238 - val_accuracy: 0.5977\n",
            "Epoch 154/200\n",
            "32/32 [==============================] - 0s 6ms/step - loss: 0.7012 - accuracy: 0.7048 - val_loss: 1.1391 - val_accuracy: 0.5820\n",
            "Epoch 155/200\n",
            "32/32 [==============================] - 0s 7ms/step - loss: 0.7005 - accuracy: 0.7116 - val_loss: 1.1321 - val_accuracy: 0.6094\n",
            "Epoch 156/200\n",
            "32/32 [==============================] - 0s 6ms/step - loss: 0.6987 - accuracy: 0.7048 - val_loss: 1.1279 - val_accuracy: 0.6133\n",
            "Epoch 157/200\n",
            "32/32 [==============================] - 0s 6ms/step - loss: 0.6926 - accuracy: 0.7136 - val_loss: 1.1241 - val_accuracy: 0.6133\n",
            "Epoch 158/200\n",
            "32/32 [==============================] - 0s 6ms/step - loss: 0.6956 - accuracy: 0.7116 - val_loss: 1.1341 - val_accuracy: 0.5977\n",
            "Epoch 159/200\n",
            "32/32 [==============================] - 0s 6ms/step - loss: 0.6945 - accuracy: 0.7155 - val_loss: 1.1316 - val_accuracy: 0.5977\n",
            "Epoch 160/200\n",
            "32/32 [==============================] - 0s 6ms/step - loss: 0.6936 - accuracy: 0.7087 - val_loss: 1.1519 - val_accuracy: 0.5859\n",
            "Epoch 161/200\n",
            "32/32 [==============================] - 0s 7ms/step - loss: 0.6876 - accuracy: 0.7146 - val_loss: 1.1504 - val_accuracy: 0.5859\n",
            "Epoch 162/200\n",
            "32/32 [==============================] - 0s 6ms/step - loss: 0.6913 - accuracy: 0.7067 - val_loss: 1.1654 - val_accuracy: 0.5820\n",
            "Epoch 163/200\n",
            "32/32 [==============================] - 0s 6ms/step - loss: 0.6846 - accuracy: 0.7165 - val_loss: 1.1522 - val_accuracy: 0.5898\n",
            "Epoch 164/200\n",
            "32/32 [==============================] - 0s 6ms/step - loss: 0.6891 - accuracy: 0.7126 - val_loss: 1.1594 - val_accuracy: 0.5820\n",
            "Epoch 165/200\n",
            "32/32 [==============================] - 0s 6ms/step - loss: 0.6861 - accuracy: 0.7097 - val_loss: 1.1559 - val_accuracy: 0.5977\n",
            "Epoch 166/200\n",
            "32/32 [==============================] - 0s 7ms/step - loss: 0.6851 - accuracy: 0.7146 - val_loss: 1.1440 - val_accuracy: 0.5859\n",
            "Epoch 167/200\n",
            "32/32 [==============================] - 0s 7ms/step - loss: 0.6881 - accuracy: 0.7107 - val_loss: 1.1628 - val_accuracy: 0.6016\n",
            "Epoch 168/200\n",
            "32/32 [==============================] - 0s 6ms/step - loss: 0.6807 - accuracy: 0.7185 - val_loss: 1.1593 - val_accuracy: 0.5898\n",
            "Epoch 169/200\n",
            "32/32 [==============================] - 0s 6ms/step - loss: 0.6798 - accuracy: 0.7214 - val_loss: 1.1667 - val_accuracy: 0.5859\n",
            "Epoch 170/200\n",
            "32/32 [==============================] - 0s 7ms/step - loss: 0.6816 - accuracy: 0.7107 - val_loss: 1.1804 - val_accuracy: 0.6094\n",
            "Epoch 171/200\n",
            "32/32 [==============================] - 0s 6ms/step - loss: 0.6846 - accuracy: 0.7116 - val_loss: 1.1766 - val_accuracy: 0.5859\n",
            "Epoch 172/200\n",
            "32/32 [==============================] - 0s 6ms/step - loss: 0.6770 - accuracy: 0.7107 - val_loss: 1.1817 - val_accuracy: 0.5859\n",
            "Epoch 173/200\n",
            "32/32 [==============================] - 0s 6ms/step - loss: 0.6787 - accuracy: 0.7126 - val_loss: 1.1852 - val_accuracy: 0.5898\n",
            "Epoch 174/200\n",
            "32/32 [==============================] - 0s 6ms/step - loss: 0.6751 - accuracy: 0.7136 - val_loss: 1.1858 - val_accuracy: 0.5977\n",
            "Epoch 175/200\n",
            "32/32 [==============================] - 0s 6ms/step - loss: 0.6714 - accuracy: 0.7224 - val_loss: 1.1761 - val_accuracy: 0.5820\n",
            "Epoch 176/200\n",
            "32/32 [==============================] - 0s 6ms/step - loss: 0.6705 - accuracy: 0.7195 - val_loss: 1.1761 - val_accuracy: 0.6016\n",
            "Epoch 177/200\n",
            "32/32 [==============================] - 0s 6ms/step - loss: 0.6682 - accuracy: 0.7234 - val_loss: 1.1975 - val_accuracy: 0.5898\n",
            "Epoch 178/200\n",
            "32/32 [==============================] - 0s 6ms/step - loss: 0.6701 - accuracy: 0.7195 - val_loss: 1.1887 - val_accuracy: 0.5820\n",
            "Epoch 179/200\n",
            "32/32 [==============================] - 0s 7ms/step - loss: 0.6682 - accuracy: 0.7214 - val_loss: 1.2066 - val_accuracy: 0.5938\n",
            "Epoch 180/200\n",
            "32/32 [==============================] - 0s 6ms/step - loss: 0.6684 - accuracy: 0.7214 - val_loss: 1.1955 - val_accuracy: 0.5820\n",
            "Epoch 181/200\n",
            "32/32 [==============================] - 0s 6ms/step - loss: 0.6719 - accuracy: 0.7155 - val_loss: 1.2130 - val_accuracy: 0.6055\n",
            "Epoch 182/200\n",
            "32/32 [==============================] - 0s 7ms/step - loss: 0.6662 - accuracy: 0.7234 - val_loss: 1.2094 - val_accuracy: 0.5938\n",
            "Epoch 183/200\n",
            "32/32 [==============================] - 0s 6ms/step - loss: 0.6660 - accuracy: 0.7185 - val_loss: 1.2200 - val_accuracy: 0.5859\n",
            "Epoch 184/200\n",
            "32/32 [==============================] - 0s 7ms/step - loss: 0.6644 - accuracy: 0.7224 - val_loss: 1.2258 - val_accuracy: 0.5898\n",
            "Epoch 185/200\n",
            "32/32 [==============================] - 0s 6ms/step - loss: 0.6627 - accuracy: 0.7195 - val_loss: 1.2185 - val_accuracy: 0.5898\n",
            "Epoch 186/200\n",
            "32/32 [==============================] - 0s 6ms/step - loss: 0.6646 - accuracy: 0.7283 - val_loss: 1.2318 - val_accuracy: 0.5820\n",
            "Epoch 187/200\n",
            "32/32 [==============================] - 0s 6ms/step - loss: 0.6583 - accuracy: 0.7224 - val_loss: 1.2254 - val_accuracy: 0.5859\n",
            "Epoch 188/200\n",
            "32/32 [==============================] - 0s 6ms/step - loss: 0.6549 - accuracy: 0.7292 - val_loss: 1.2222 - val_accuracy: 0.5820\n",
            "Epoch 189/200\n",
            "32/32 [==============================] - 0s 7ms/step - loss: 0.6524 - accuracy: 0.7243 - val_loss: 1.2220 - val_accuracy: 0.5898\n",
            "Epoch 190/200\n",
            "32/32 [==============================] - 0s 6ms/step - loss: 0.6528 - accuracy: 0.7292 - val_loss: 1.2301 - val_accuracy: 0.5977\n",
            "Epoch 191/200\n",
            "32/32 [==============================] - 0s 6ms/step - loss: 0.6586 - accuracy: 0.7185 - val_loss: 1.2589 - val_accuracy: 0.5781\n",
            "Epoch 192/200\n",
            "32/32 [==============================] - 0s 6ms/step - loss: 0.6597 - accuracy: 0.7195 - val_loss: 1.2629 - val_accuracy: 0.5742\n",
            "Epoch 193/200\n",
            "32/32 [==============================] - 0s 6ms/step - loss: 0.6511 - accuracy: 0.7234 - val_loss: 1.2781 - val_accuracy: 0.5977\n",
            "Epoch 194/200\n",
            "32/32 [==============================] - 0s 6ms/step - loss: 0.6546 - accuracy: 0.7253 - val_loss: 1.2563 - val_accuracy: 0.5859\n",
            "Epoch 195/200\n",
            "32/32 [==============================] - 0s 6ms/step - loss: 0.6543 - accuracy: 0.7243 - val_loss: 1.2580 - val_accuracy: 0.5820\n",
            "Epoch 196/200\n",
            "32/32 [==============================] - 0s 6ms/step - loss: 0.6624 - accuracy: 0.7292 - val_loss: 1.2244 - val_accuracy: 0.5859\n",
            "Epoch 197/200\n",
            "32/32 [==============================] - 0s 6ms/step - loss: 0.6590 - accuracy: 0.7204 - val_loss: 1.2569 - val_accuracy: 0.5781\n",
            "Epoch 198/200\n",
            "32/32 [==============================] - 0s 6ms/step - loss: 0.6389 - accuracy: 0.7331 - val_loss: 1.2665 - val_accuracy: 0.6016\n",
            "Epoch 199/200\n",
            "32/32 [==============================] - 0s 7ms/step - loss: 0.6455 - accuracy: 0.7283 - val_loss: 1.2377 - val_accuracy: 0.5938\n",
            "Epoch 200/200\n",
            "32/32 [==============================] - 0s 6ms/step - loss: 0.6451 - accuracy: 0.7243 - val_loss: 1.2392 - val_accuracy: 0.5977\n",
            "Test data set\n",
            "10/10 [==============================] - 0s 4ms/step - loss: 1.2535 - accuracy: 0.6094\n",
            "Validation accuracy 0.609375\n"
          ],
          "name": "stdout"
        }
      ]
    }
  ]
}