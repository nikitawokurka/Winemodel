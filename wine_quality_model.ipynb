{
  "nbformat": 4,
  "nbformat_minor": 0,
  "metadata": {
    "colab": {
      "name": "wine-quality-model.ipynb",
      "version": "0.3.2",
      "provenance": [],
      "collapsed_sections": []
    },
    "kernelspec": {
      "name": "python3",
      "display_name": "Python 3"
    }
  },
  "cells": [
    {
      "cell_type": "markdown",
      "metadata": {
        "id": "-kHjVdA83GQJ",
        "colab_type": "text"
      },
      "source": [
        "Cloning of the wine dataset from a github repository."
      ]
    },
    {
      "cell_type": "code",
      "metadata": {
        "id": "MdVY_GCM8wY3",
        "colab_type": "code",
        "colab": {
          "base_uri": "https://localhost:8080/",
          "height": 243
        },
        "outputId": "6287eafb-d04b-45b2-bba8-0ced33b68d46"
      },
      "source": [
        "! git clone https://github.com/nikitawokurka/Winemodel.git\n",
        "%cd Winemodel \n",
        "%ls"
      ],
      "execution_count": 1,
      "outputs": [
        {
          "output_type": "stream",
          "text": [
            "fatal: destination path 'Winemodel' already exists and is not an empty directory.\n",
            "/content/Winemodel\n",
            "README.md  winequality-red.csv  winequality-white.csv\n"
          ],
          "name": "stdout"
        }
      ]
    },
    {
      "cell_type": "markdown",
      "metadata": {
        "id": "NJZJMkkd3I-_",
        "colab_type": "text"
      },
      "source": [
        "# Import TensorFlow and other libraries\n",
        "\n",
        "Installing Tensorflow 2.0 beta via pip.\n",
        "\n"
      ]
    },
    {
      "cell_type": "code",
      "metadata": {
        "id": "xIOApUBWxRI6",
        "colab_type": "code",
        "colab": {
          "base_uri": "https://localhost:8080/",
          "height": 486
        },
        "cellView": "both",
        "outputId": "67d60910-0da7-44f5-b0e8-218ab0f033a0"
      },
      "source": [
        "pip install tensorflow==2.0.0-beta0"
      ],
      "execution_count": 2,
      "outputs": [
        {
          "output_type": "stream",
          "text": [
            "Requirement already satisfied: tensorflow==2.0.0-beta0 in /usr/local/lib/python3.6/dist-packages (2.0.0b0)\n",
            "Requirement already satisfied: gast>=0.2.0 in /usr/local/lib/python3.6/dist-packages (from tensorflow==2.0.0-beta0) (0.2.2)\n",
            "Requirement already satisfied: tb-nightly<1.14.0a20190604,>=1.14.0a20190603 in /usr/local/lib/python3.6/dist-packages (from tensorflow==2.0.0-beta0) (1.14.0a20190603)\n",
            "Requirement already satisfied: astor>=0.6.0 in /usr/local/lib/python3.6/dist-packages (from tensorflow==2.0.0-beta0) (0.8.0)\n",
            "Requirement already satisfied: keras-preprocessing>=1.0.5 in /usr/local/lib/python3.6/dist-packages (from tensorflow==2.0.0-beta0) (1.1.0)\n",
            "Requirement already satisfied: wrapt>=1.11.1 in /usr/local/lib/python3.6/dist-packages (from tensorflow==2.0.0-beta0) (1.11.1)\n",
            "Requirement already satisfied: numpy<2.0,>=1.14.5 in /usr/local/lib/python3.6/dist-packages (from tensorflow==2.0.0-beta0) (1.16.4)\n",
            "Requirement already satisfied: google-pasta>=0.1.6 in /usr/local/lib/python3.6/dist-packages (from tensorflow==2.0.0-beta0) (0.1.7)\n",
            "Requirement already satisfied: wheel>=0.26 in /usr/local/lib/python3.6/dist-packages (from tensorflow==2.0.0-beta0) (0.33.4)\n",
            "Requirement already satisfied: six>=1.10.0 in /usr/local/lib/python3.6/dist-packages (from tensorflow==2.0.0-beta0) (1.12.0)\n",
            "Requirement already satisfied: keras-applications>=1.0.6 in /usr/local/lib/python3.6/dist-packages (from tensorflow==2.0.0-beta0) (1.0.8)\n",
            "Requirement already satisfied: absl-py>=0.7.0 in /usr/local/lib/python3.6/dist-packages (from tensorflow==2.0.0-beta0) (0.7.1)\n",
            "Requirement already satisfied: tf-estimator-nightly<1.14.0.dev2019060502,>=1.14.0.dev2019060501 in /usr/local/lib/python3.6/dist-packages (from tensorflow==2.0.0-beta0) (1.14.0.dev2019060501)\n",
            "Requirement already satisfied: protobuf>=3.6.1 in /usr/local/lib/python3.6/dist-packages (from tensorflow==2.0.0-beta0) (3.7.1)\n",
            "Requirement already satisfied: grpcio>=1.8.6 in /usr/local/lib/python3.6/dist-packages (from tensorflow==2.0.0-beta0) (1.15.0)\n",
            "Requirement already satisfied: termcolor>=1.1.0 in /usr/local/lib/python3.6/dist-packages (from tensorflow==2.0.0-beta0) (1.1.0)\n",
            "Requirement already satisfied: setuptools>=41.0.0 in /usr/local/lib/python3.6/dist-packages (from tb-nightly<1.14.0a20190604,>=1.14.0a20190603->tensorflow==2.0.0-beta0) (41.0.1)\n",
            "Requirement already satisfied: markdown>=2.6.8 in /usr/local/lib/python3.6/dist-packages (from tb-nightly<1.14.0a20190604,>=1.14.0a20190603->tensorflow==2.0.0-beta0) (3.1.1)\n",
            "Requirement already satisfied: werkzeug>=0.11.15 in /usr/local/lib/python3.6/dist-packages (from tb-nightly<1.14.0a20190604,>=1.14.0a20190603->tensorflow==2.0.0-beta0) (0.15.4)\n",
            "Requirement already satisfied: h5py in /usr/local/lib/python3.6/dist-packages (from keras-applications>=1.0.6->tensorflow==2.0.0-beta0) (2.8.0)\n"
          ],
          "name": "stdout"
        }
      ]
    },
    {
      "cell_type": "markdown",
      "metadata": {
        "id": "TPsEfzY8Ct3e",
        "colab_type": "text"
      },
      "source": [
        "Importing libraries and checking the version of Tensorflow"
      ]
    },
    {
      "cell_type": "code",
      "metadata": {
        "id": "gXkxItPFzwg2",
        "colab_type": "code",
        "colab": {
          "base_uri": "https://localhost:8080/",
          "height": 34
        },
        "outputId": "b21a3267-4666-437e-dd4e-81f3a4e1565e"
      },
      "source": [
        "from __future__ import absolute_import, division, print_function, unicode_literals\n",
        "\n",
        "import pandas as pd\n",
        "import tensorflow as tf\n",
        "from tensorflow import feature_column\n",
        "from tensorflow.keras import layers\n",
        "from sklearn.model_selection import train_test_split\n",
        "\n",
        "print(tf.__version__)"
      ],
      "execution_count": 3,
      "outputs": [
        {
          "output_type": "stream",
          "text": [
            "2.0.0-beta0\n"
          ],
          "name": "stdout"
        }
      ]
    },
    {
      "cell_type": "markdown",
      "metadata": {
        "id": "HWtCe-Nczw57",
        "colab_type": "text"
      },
      "source": [
        "# Use Pandas to create a dataframe\n",
        "\n",
        "Reading the dataset winequality-red.csv and displaying it."
      ]
    },
    {
      "cell_type": "code",
      "metadata": {
        "id": "c53er53n20pf",
        "colab_type": "code",
        "colab": {
          "base_uri": "https://localhost:8080/",
          "height": 284
        },
        "outputId": "852365ac-7b35-4fa6-ee85-ab6e2145ab64"
      },
      "source": [
        "dataframe = pd.read_csv(\"winequality-red.csv\", dtype=float, delimiter=',')\n",
        "dataframe.head()"
      ],
      "execution_count": 4,
      "outputs": [
        {
          "output_type": "execute_result",
          "data": {
            "text/html": [
              "<div>\n",
              "<style scoped>\n",
              "    .dataframe tbody tr th:only-of-type {\n",
              "        vertical-align: middle;\n",
              "    }\n",
              "\n",
              "    .dataframe tbody tr th {\n",
              "        vertical-align: top;\n",
              "    }\n",
              "\n",
              "    .dataframe thead th {\n",
              "        text-align: right;\n",
              "    }\n",
              "</style>\n",
              "<table border=\"1\" class=\"dataframe\">\n",
              "  <thead>\n",
              "    <tr style=\"text-align: right;\">\n",
              "      <th></th>\n",
              "      <th>fixed_acidity</th>\n",
              "      <th>volatile_acidity</th>\n",
              "      <th>citric_acid</th>\n",
              "      <th>residual_sugar</th>\n",
              "      <th>chlorides</th>\n",
              "      <th>free_sulfur_dioxide</th>\n",
              "      <th>total_sulfur_dioxide</th>\n",
              "      <th>density</th>\n",
              "      <th>pH</th>\n",
              "      <th>sulphates</th>\n",
              "      <th>alcohol</th>\n",
              "      <th>quality</th>\n",
              "    </tr>\n",
              "  </thead>\n",
              "  <tbody>\n",
              "    <tr>\n",
              "      <th>0</th>\n",
              "      <td>7.4</td>\n",
              "      <td>0.70</td>\n",
              "      <td>0.00</td>\n",
              "      <td>1.9</td>\n",
              "      <td>0.076</td>\n",
              "      <td>11.0</td>\n",
              "      <td>34.0</td>\n",
              "      <td>0.9978</td>\n",
              "      <td>3.51</td>\n",
              "      <td>0.56</td>\n",
              "      <td>9.4</td>\n",
              "      <td>5.0</td>\n",
              "    </tr>\n",
              "    <tr>\n",
              "      <th>1</th>\n",
              "      <td>7.8</td>\n",
              "      <td>0.88</td>\n",
              "      <td>0.00</td>\n",
              "      <td>2.6</td>\n",
              "      <td>0.098</td>\n",
              "      <td>25.0</td>\n",
              "      <td>67.0</td>\n",
              "      <td>0.9968</td>\n",
              "      <td>3.20</td>\n",
              "      <td>0.68</td>\n",
              "      <td>9.8</td>\n",
              "      <td>5.0</td>\n",
              "    </tr>\n",
              "    <tr>\n",
              "      <th>2</th>\n",
              "      <td>7.8</td>\n",
              "      <td>0.76</td>\n",
              "      <td>0.04</td>\n",
              "      <td>2.3</td>\n",
              "      <td>0.092</td>\n",
              "      <td>15.0</td>\n",
              "      <td>54.0</td>\n",
              "      <td>0.9970</td>\n",
              "      <td>3.26</td>\n",
              "      <td>0.65</td>\n",
              "      <td>9.8</td>\n",
              "      <td>5.0</td>\n",
              "    </tr>\n",
              "    <tr>\n",
              "      <th>3</th>\n",
              "      <td>11.2</td>\n",
              "      <td>0.28</td>\n",
              "      <td>0.56</td>\n",
              "      <td>1.9</td>\n",
              "      <td>0.075</td>\n",
              "      <td>17.0</td>\n",
              "      <td>60.0</td>\n",
              "      <td>0.9980</td>\n",
              "      <td>3.16</td>\n",
              "      <td>0.58</td>\n",
              "      <td>9.8</td>\n",
              "      <td>6.0</td>\n",
              "    </tr>\n",
              "    <tr>\n",
              "      <th>4</th>\n",
              "      <td>7.4</td>\n",
              "      <td>0.70</td>\n",
              "      <td>0.00</td>\n",
              "      <td>1.9</td>\n",
              "      <td>0.076</td>\n",
              "      <td>11.0</td>\n",
              "      <td>34.0</td>\n",
              "      <td>0.9978</td>\n",
              "      <td>3.51</td>\n",
              "      <td>0.56</td>\n",
              "      <td>9.4</td>\n",
              "      <td>5.0</td>\n",
              "    </tr>\n",
              "  </tbody>\n",
              "</table>\n",
              "</div>"
            ],
            "text/plain": [
              "   fixed_acidity  volatile_acidity  citric_acid  ...  sulphates  alcohol  quality\n",
              "0            7.4              0.70         0.00  ...       0.56      9.4      5.0\n",
              "1            7.8              0.88         0.00  ...       0.68      9.8      5.0\n",
              "2            7.8              0.76         0.04  ...       0.65      9.8      5.0\n",
              "3           11.2              0.28         0.56  ...       0.58      9.8      6.0\n",
              "4            7.4              0.70         0.00  ...       0.56      9.4      5.0\n",
              "\n",
              "[5 rows x 12 columns]"
            ]
          },
          "metadata": {
            "tags": []
          },
          "execution_count": 4
        }
      ]
    },
    {
      "cell_type": "markdown",
      "metadata": {
        "id": "rWtonz8P2-jO",
        "colab_type": "text"
      },
      "source": [
        "Splitting the dataset into a test and validation set."
      ]
    },
    {
      "cell_type": "code",
      "metadata": {
        "id": "npX0TnBc_0eJ",
        "colab_type": "code",
        "colab": {
          "base_uri": "https://localhost:8080/",
          "height": 68
        },
        "outputId": "aefb1fe8-8693-47f8-d49d-22673fc44da1"
      },
      "source": [
        "train, test = train_test_split(dataframe, test_size=0.2)\n",
        "train, val = train_test_split(train, test_size=0.2)\n",
        "print(len(train), 'train examples')\n",
        "print(len(val), 'validation examples')\n",
        "print(len(test), 'test examples')"
      ],
      "execution_count": 5,
      "outputs": [
        {
          "output_type": "stream",
          "text": [
            "1023 train examples\n",
            "256 validation examples\n",
            "320 test examples\n"
          ],
          "name": "stdout"
        }
      ]
    },
    {
      "cell_type": "markdown",
      "metadata": {
        "id": "PB9lcb2RAd4-",
        "colab_type": "text"
      },
      "source": [
        "# Create an input pipeline using tf.data\n",
        "\n"
      ]
    },
    {
      "cell_type": "code",
      "metadata": {
        "id": "NtrmG5eTAeSn",
        "colab_type": "code",
        "colab": {}
      },
      "source": [
        "def df_to_dataset(dataframe, shuffle=True, batch_size=32):\n",
        "  dataframe = dataframe.copy()\n",
        "  labels = dataframe.pop('quality')\n",
        "  ds = tf.data.Dataset.from_tensor_slices((dict(dataframe), labels))\n",
        "  if shuffle:\n",
        "    ds = ds.shuffle(buffer_size=len(dataframe))\n",
        "  ds = ds.batch(batch_size)\n",
        "  return ds"
      ],
      "execution_count": 0,
      "outputs": []
    },
    {
      "cell_type": "code",
      "metadata": {
        "id": "iMFHceVSDyXC",
        "colab_type": "code",
        "colab": {}
      },
      "source": [
        "batch_size = 32\n",
        "train_ds = df_to_dataset(train, batch_size=batch_size)\n",
        "val_ds = df_to_dataset(val, shuffle=False, batch_size=batch_size)\n",
        "test_ds = df_to_dataset(test, shuffle=False, batch_size=batch_size)"
      ],
      "execution_count": 0,
      "outputs": []
    },
    {
      "cell_type": "markdown",
      "metadata": {
        "id": "8t8gR_MZAgkp",
        "colab_type": "text"
      },
      "source": [
        "# Create a feature layer"
      ]
    },
    {
      "cell_type": "code",
      "metadata": {
        "id": "t_jgqHzjAi00",
        "colab_type": "code",
        "colab": {}
      },
      "source": [
        "#Definig feature_colums\n",
        "feature_columns = []\n",
        "\n",
        "# numeric cols\n",
        "for header in [\"fixed_acidity\", \"volatile_acidity\", \"citric_acid\", \"residual_sugar\", \"chlorides\", \"free_sulfur_dioxide\", \"total_sulfur_dioxide\", \"density\", \"pH\", \"sulphates\", \"alcohol\"]:\n",
        "  feature_columns.append(feature_column.numeric_column(header))\n",
        "\n",
        "feature_layer = tf.keras.layers.DenseFeatures(feature_columns)\n"
      ],
      "execution_count": 0,
      "outputs": []
    },
    {
      "cell_type": "markdown",
      "metadata": {
        "id": "s6dygag8AjXZ",
        "colab_type": "text"
      },
      "source": [
        "# Create, compile, and train the mode\n",
        "\n",
        "Setting the amount of nodes for each layer. Output layer has 10 nodes wich are for the quality betweenn 0 and 10.\n",
        "\n",
        "Quote from wineDataesciption -\n",
        "\"quality \n",
        "between 0 (very bad) and 10 (very excellent). Several data mining methods were applied to model\"\n",
        "\n"
      ]
    },
    {
      "cell_type": "code",
      "metadata": {
        "id": "qRjPd9s4Ajg7",
        "colab_type": "code",
        "colab": {}
      },
      "source": [
        "model = tf.keras.Sequential([\n",
        "  feature_layer,\n",
        "  layers.Dense(64, activation='relu'),\n",
        "  layers.Dense(128, activation='relu'),\n",
        "  layers.Dense(64, activation='relu'),\n",
        "  layers.Dense(10, activation='softmax')\n",
        "])"
      ],
      "execution_count": 0,
      "outputs": []
    },
    {
      "cell_type": "markdown",
      "metadata": {
        "id": "suuludAWAs51",
        "colab_type": "text"
      },
      "source": [
        "Using the spasparse categorical crossentropy, because we have 10 label classes\n",
        "\n",
        "linke to API from [SparseCategoricalCrossentropy](hhttps://www.tensorflow.org/versions/r2.0/api_docs/python/tf/keras/losses/SparseCategoricalCrossentropy)"
      ]
    },
    {
      "cell_type": "code",
      "metadata": {
        "id": "Ea_AV-LuAtCl",
        "colab_type": "code",
        "colab": {}
      },
      "source": [
        "model.compile(optimizer='adam',\n",
        "              loss='sparse_categorical_crossentropy',\n",
        "              metrics=['accuracy'])"
      ],
      "execution_count": 0,
      "outputs": []
    },
    {
      "cell_type": "markdown",
      "metadata": {
        "id": "0tviWZ_HAvU_",
        "colab_type": "text"
      },
      "source": [
        "Using only 10 epoch to not overfit our model.\n",
        "\n"
      ]
    },
    {
      "cell_type": "code",
      "metadata": {
        "id": "g5mGwVMuAvdY",
        "colab_type": "code",
        "colab": {
          "base_uri": "https://localhost:8080/",
          "height": 522
        },
        "outputId": "ba3c538e-5a78-4098-bfde-4a95f512a58e"
      },
      "source": [
        "print('Train data set')\n",
        "model.fit(train_ds,\n",
        "          validation_data=val_ds,\n",
        "          epochs=10)"
      ],
      "execution_count": 11,
      "outputs": [
        {
          "output_type": "stream",
          "text": [
            "Train data set\n",
            "Epoch 1/10\n"
          ],
          "name": "stdout"
        },
        {
          "output_type": "stream",
          "text": [
            "WARNING: Logging before flag parsing goes to stderr.\n",
            "W0614 08:41:38.514212 140589282396032 deprecation.py:323] From /usr/local/lib/python3.6/dist-packages/tensorflow/python/ops/math_grad.py:1250: add_dispatch_support.<locals>.wrapper (from tensorflow.python.ops.array_ops) is deprecated and will be removed in a future version.\n",
            "Instructions for updating:\n",
            "Use tf.where in 2.0, which has the same broadcast rule as np.where\n"
          ],
          "name": "stderr"
        },
        {
          "output_type": "stream",
          "text": [
            "32/32 [==============================] - 2s 54ms/step - loss: 2.2316 - accuracy: 0.2741 - val_loss: 1.5204 - val_accuracy: 0.4180\n",
            "Epoch 2/10\n",
            "32/32 [==============================] - 0s 6ms/step - loss: 1.2093 - accuracy: 0.4630 - val_loss: 1.3189 - val_accuracy: 0.4727\n",
            "Epoch 3/10\n",
            "32/32 [==============================] - 0s 5ms/step - loss: 1.1614 - accuracy: 0.4903 - val_loss: 1.3398 - val_accuracy: 0.4844\n",
            "Epoch 4/10\n",
            "32/32 [==============================] - 0s 5ms/step - loss: 1.1525 - accuracy: 0.4965 - val_loss: 1.3389 - val_accuracy: 0.4688\n",
            "Epoch 5/10\n",
            "32/32 [==============================] - 0s 5ms/step - loss: 1.1452 - accuracy: 0.4892 - val_loss: 1.3407 - val_accuracy: 0.4648\n",
            "Epoch 6/10\n",
            "32/32 [==============================] - 0s 5ms/step - loss: 1.1403 - accuracy: 0.4865 - val_loss: 1.3441 - val_accuracy: 0.4766\n",
            "Epoch 7/10\n",
            "32/32 [==============================] - 0s 5ms/step - loss: 1.1379 - accuracy: 0.4930 - val_loss: 1.3303 - val_accuracy: 0.4727\n",
            "Epoch 8/10\n",
            "32/32 [==============================] - 0s 5ms/step - loss: 1.1340 - accuracy: 0.4850 - val_loss: 1.3308 - val_accuracy: 0.4727\n",
            "Epoch 9/10\n",
            "32/32 [==============================] - 0s 5ms/step - loss: 1.1317 - accuracy: 0.4885 - val_loss: 1.3172 - val_accuracy: 0.4766\n",
            "Epoch 10/10\n",
            "32/32 [==============================] - 0s 5ms/step - loss: 1.1321 - accuracy: 0.4995 - val_loss: 1.3039 - val_accuracy: 0.4766\n"
          ],
          "name": "stdout"
        },
        {
          "output_type": "execute_result",
          "data": {
            "text/plain": [
              "<tensorflow.python.keras.callbacks.History at 0x7fdd428efc18>"
            ]
          },
          "metadata": {
            "tags": []
          },
          "execution_count": 11
        }
      ]
    },
    {
      "cell_type": "markdown",
      "metadata": {
        "id": "EKkEWkwVAxR3",
        "colab_type": "text"
      },
      "source": [
        "Testing model on test data set."
      ]
    },
    {
      "cell_type": "code",
      "metadata": {
        "id": "1ULj6rmVAxZZ",
        "colab_type": "code",
        "colab": {
          "base_uri": "https://localhost:8080/",
          "height": 108
        },
        "outputId": "bef5a3e0-4d94-41c3-c0ec-f9291f722a61"
      },
      "source": [
        "print('Test data set')\n",
        "loss, accuracy = model.evaluate(test_ds)\n",
        "print(\"Accuracy\", accuracy)"
      ],
      "execution_count": 12,
      "outputs": [
        {
          "output_type": "stream",
          "text": [
            "Test data set\n",
            "10/10 [==============================] - 0s 2ms/step - loss: 1.0850 - accuracy: 0.4969\n",
            "Accuracy 0.496875\n"
          ],
          "name": "stdout"
        }
      ]
    },
    {
      "cell_type": "markdown",
      "metadata": {
        "id": "sAYX8r7qJsLt",
        "colab_type": "text"
      },
      "source": [
        "# Overfitting\n",
        "\n",
        "Using 200 epochs to see that the accuracy between the train data set and the test data set differ wich is an indicator that the model is overfitting on the train data set."
      ]
    },
    {
      "cell_type": "code",
      "metadata": {
        "id": "lmcXpxBWJvzT",
        "colab_type": "code",
        "colab": {
          "base_uri": "https://localhost:8080/",
          "height": 6905
        },
        "outputId": "4096e4fa-4bc7-4628-897a-b102348e34e1"
      },
      "source": [
        "print('Train data set')\n",
        "model.fit(train_ds,\n",
        "          validation_data=val_ds,\n",
        "          epochs=200)\n",
        "\n",
        "print('Test data set')\n",
        "loss, accuracy = model.evaluate(test_ds)\n",
        "print(\"Accuracy\", accuracy)"
      ],
      "execution_count": 13,
      "outputs": [
        {
          "output_type": "stream",
          "text": [
            "Train data set\n",
            "Epoch 1/200\n",
            "32/32 [==============================] - 0s 5ms/step - loss: 1.1282 - accuracy: 0.4907 - val_loss: 1.2922 - val_accuracy: 0.4766\n",
            "Epoch 2/200\n",
            "32/32 [==============================] - 0s 5ms/step - loss: 1.1240 - accuracy: 0.4917 - val_loss: 1.2723 - val_accuracy: 0.4883\n",
            "Epoch 3/200\n",
            "32/32 [==============================] - 0s 5ms/step - loss: 1.1176 - accuracy: 0.5044 - val_loss: 1.2654 - val_accuracy: 0.4727\n",
            "Epoch 4/200\n",
            "32/32 [==============================] - 0s 5ms/step - loss: 1.1080 - accuracy: 0.5103 - val_loss: 1.2568 - val_accuracy: 0.4727\n",
            "Epoch 5/200\n",
            "32/32 [==============================] - 0s 5ms/step - loss: 1.0988 - accuracy: 0.5132 - val_loss: 1.2599 - val_accuracy: 0.4766\n",
            "Epoch 6/200\n",
            "32/32 [==============================] - 0s 5ms/step - loss: 1.0930 - accuracy: 0.5191 - val_loss: 1.2490 - val_accuracy: 0.4648\n",
            "Epoch 7/200\n",
            "32/32 [==============================] - 0s 5ms/step - loss: 1.0864 - accuracy: 0.5181 - val_loss: 1.2448 - val_accuracy: 0.4883\n",
            "Epoch 8/200\n",
            "32/32 [==============================] - 0s 5ms/step - loss: 1.0800 - accuracy: 0.5181 - val_loss: 1.2412 - val_accuracy: 0.4766\n",
            "Epoch 9/200\n",
            "32/32 [==============================] - 0s 5ms/step - loss: 1.0723 - accuracy: 0.5308 - val_loss: 1.2512 - val_accuracy: 0.4648\n",
            "Epoch 10/200\n",
            "32/32 [==============================] - 0s 5ms/step - loss: 1.0701 - accuracy: 0.5279 - val_loss: 1.2336 - val_accuracy: 0.4844\n",
            "Epoch 11/200\n",
            "32/32 [==============================] - 0s 5ms/step - loss: 1.0633 - accuracy: 0.5406 - val_loss: 1.2427 - val_accuracy: 0.4766\n",
            "Epoch 12/200\n",
            "32/32 [==============================] - 0s 5ms/step - loss: 1.0563 - accuracy: 0.5347 - val_loss: 1.2373 - val_accuracy: 0.4805\n",
            "Epoch 13/200\n",
            "32/32 [==============================] - 0s 5ms/step - loss: 1.0486 - accuracy: 0.5337 - val_loss: 1.2282 - val_accuracy: 0.4844\n",
            "Epoch 14/200\n",
            "32/32 [==============================] - 0s 5ms/step - loss: 1.0433 - accuracy: 0.5415 - val_loss: 1.2372 - val_accuracy: 0.4766\n",
            "Epoch 15/200\n",
            "32/32 [==============================] - 0s 5ms/step - loss: 1.0413 - accuracy: 0.5415 - val_loss: 1.2355 - val_accuracy: 0.4883\n",
            "Epoch 16/200\n",
            "32/32 [==============================] - 0s 5ms/step - loss: 1.0369 - accuracy: 0.5386 - val_loss: 1.2321 - val_accuracy: 0.5078\n",
            "Epoch 17/200\n",
            "32/32 [==============================] - 0s 5ms/step - loss: 1.0286 - accuracy: 0.5435 - val_loss: 1.2325 - val_accuracy: 0.5039\n",
            "Epoch 18/200\n",
            "32/32 [==============================] - 0s 5ms/step - loss: 1.0245 - accuracy: 0.5484 - val_loss: 1.2237 - val_accuracy: 0.4922\n",
            "Epoch 19/200\n",
            "32/32 [==============================] - 0s 5ms/step - loss: 1.0165 - accuracy: 0.5582 - val_loss: 1.2221 - val_accuracy: 0.5000\n",
            "Epoch 20/200\n",
            "32/32 [==============================] - 0s 5ms/step - loss: 1.0113 - accuracy: 0.5601 - val_loss: 1.2274 - val_accuracy: 0.5039\n",
            "Epoch 21/200\n",
            "32/32 [==============================] - 0s 5ms/step - loss: 1.0070 - accuracy: 0.5582 - val_loss: 1.2317 - val_accuracy: 0.4922\n",
            "Epoch 22/200\n",
            "32/32 [==============================] - 0s 4ms/step - loss: 1.0053 - accuracy: 0.5630 - val_loss: 1.2240 - val_accuracy: 0.4961\n",
            "Epoch 23/200\n",
            "32/32 [==============================] - 0s 5ms/step - loss: 0.9955 - accuracy: 0.5670 - val_loss: 1.2222 - val_accuracy: 0.5117\n",
            "Epoch 24/200\n",
            "32/32 [==============================] - 0s 5ms/step - loss: 0.9921 - accuracy: 0.5582 - val_loss: 1.2280 - val_accuracy: 0.5195\n",
            "Epoch 25/200\n",
            "32/32 [==============================] - 0s 5ms/step - loss: 0.9872 - accuracy: 0.5660 - val_loss: 1.2264 - val_accuracy: 0.5273\n",
            "Epoch 26/200\n",
            "32/32 [==============================] - 0s 5ms/step - loss: 0.9854 - accuracy: 0.5689 - val_loss: 1.2196 - val_accuracy: 0.5312\n",
            "Epoch 27/200\n",
            "32/32 [==============================] - 0s 5ms/step - loss: 0.9796 - accuracy: 0.5630 - val_loss: 1.2183 - val_accuracy: 0.5273\n",
            "Epoch 28/200\n",
            "32/32 [==============================] - 0s 5ms/step - loss: 0.9787 - accuracy: 0.5728 - val_loss: 1.2052 - val_accuracy: 0.5469\n",
            "Epoch 29/200\n",
            "32/32 [==============================] - 0s 5ms/step - loss: 0.9734 - accuracy: 0.5728 - val_loss: 1.2086 - val_accuracy: 0.5430\n",
            "Epoch 30/200\n",
            "32/32 [==============================] - 0s 5ms/step - loss: 0.9665 - accuracy: 0.5816 - val_loss: 1.2041 - val_accuracy: 0.5430\n",
            "Epoch 31/200\n",
            "32/32 [==============================] - 0s 5ms/step - loss: 0.9649 - accuracy: 0.5758 - val_loss: 1.1946 - val_accuracy: 0.5352\n",
            "Epoch 32/200\n",
            "32/32 [==============================] - 0s 5ms/step - loss: 0.9572 - accuracy: 0.5846 - val_loss: 1.2054 - val_accuracy: 0.5469\n",
            "Epoch 33/200\n",
            "32/32 [==============================] - 0s 5ms/step - loss: 0.9563 - accuracy: 0.5865 - val_loss: 1.1945 - val_accuracy: 0.5469\n",
            "Epoch 34/200\n",
            "32/32 [==============================] - 0s 5ms/step - loss: 0.9475 - accuracy: 0.5797 - val_loss: 1.2026 - val_accuracy: 0.5352\n",
            "Epoch 35/200\n",
            "32/32 [==============================] - 0s 5ms/step - loss: 0.9452 - accuracy: 0.5885 - val_loss: 1.2070 - val_accuracy: 0.5312\n",
            "Epoch 36/200\n",
            "32/32 [==============================] - 0s 5ms/step - loss: 0.9447 - accuracy: 0.5924 - val_loss: 1.1912 - val_accuracy: 0.5430\n",
            "Epoch 37/200\n",
            "32/32 [==============================] - 0s 5ms/step - loss: 0.9360 - accuracy: 0.5934 - val_loss: 1.1927 - val_accuracy: 0.5469\n",
            "Epoch 38/200\n",
            "32/32 [==============================] - 0s 5ms/step - loss: 0.9322 - accuracy: 0.5914 - val_loss: 1.2034 - val_accuracy: 0.5391\n",
            "Epoch 39/200\n",
            "32/32 [==============================] - 0s 5ms/step - loss: 0.9350 - accuracy: 0.5885 - val_loss: 1.1944 - val_accuracy: 0.5469\n",
            "Epoch 40/200\n",
            "32/32 [==============================] - 0s 5ms/step - loss: 0.9269 - accuracy: 0.5894 - val_loss: 1.1862 - val_accuracy: 0.5469\n",
            "Epoch 41/200\n",
            "32/32 [==============================] - 0s 5ms/step - loss: 0.9245 - accuracy: 0.5973 - val_loss: 1.2030 - val_accuracy: 0.5391\n",
            "Epoch 42/200\n",
            "32/32 [==============================] - 0s 5ms/step - loss: 0.9266 - accuracy: 0.5943 - val_loss: 1.1849 - val_accuracy: 0.5625\n",
            "Epoch 43/200\n",
            "32/32 [==============================] - 0s 5ms/step - loss: 0.9213 - accuracy: 0.5924 - val_loss: 1.1797 - val_accuracy: 0.5703\n",
            "Epoch 44/200\n",
            "32/32 [==============================] - 0s 5ms/step - loss: 0.9192 - accuracy: 0.5934 - val_loss: 1.1860 - val_accuracy: 0.5352\n",
            "Epoch 45/200\n",
            "32/32 [==============================] - 0s 5ms/step - loss: 0.9144 - accuracy: 0.5904 - val_loss: 1.1825 - val_accuracy: 0.5508\n",
            "Epoch 46/200\n",
            "32/32 [==============================] - 0s 5ms/step - loss: 0.9086 - accuracy: 0.6022 - val_loss: 1.1698 - val_accuracy: 0.5508\n",
            "Epoch 47/200\n",
            "32/32 [==============================] - 0s 5ms/step - loss: 0.9078 - accuracy: 0.5904 - val_loss: 1.1843 - val_accuracy: 0.5586\n",
            "Epoch 48/200\n",
            "32/32 [==============================] - 0s 5ms/step - loss: 0.9074 - accuracy: 0.6041 - val_loss: 1.1786 - val_accuracy: 0.5781\n",
            "Epoch 49/200\n",
            "32/32 [==============================] - 0s 5ms/step - loss: 0.8968 - accuracy: 0.6022 - val_loss: 1.1952 - val_accuracy: 0.5430\n",
            "Epoch 50/200\n",
            "32/32 [==============================] - 0s 5ms/step - loss: 0.8970 - accuracy: 0.6119 - val_loss: 1.1734 - val_accuracy: 0.5742\n",
            "Epoch 51/200\n",
            "32/32 [==============================] - 0s 5ms/step - loss: 0.8872 - accuracy: 0.6080 - val_loss: 1.1883 - val_accuracy: 0.5586\n",
            "Epoch 52/200\n",
            "32/32 [==============================] - 0s 5ms/step - loss: 0.8888 - accuracy: 0.6041 - val_loss: 1.1922 - val_accuracy: 0.5625\n",
            "Epoch 53/200\n",
            "32/32 [==============================] - 0s 5ms/step - loss: 0.8890 - accuracy: 0.6149 - val_loss: 1.1816 - val_accuracy: 0.5742\n",
            "Epoch 54/200\n",
            "32/32 [==============================] - 0s 5ms/step - loss: 0.8799 - accuracy: 0.6109 - val_loss: 1.1808 - val_accuracy: 0.5586\n",
            "Epoch 55/200\n",
            "32/32 [==============================] - 0s 5ms/step - loss: 0.8711 - accuracy: 0.6207 - val_loss: 1.1925 - val_accuracy: 0.5547\n",
            "Epoch 56/200\n",
            "32/32 [==============================] - 0s 5ms/step - loss: 0.8680 - accuracy: 0.6188 - val_loss: 1.1820 - val_accuracy: 0.5625\n",
            "Epoch 57/200\n",
            "32/32 [==============================] - 0s 4ms/step - loss: 0.8636 - accuracy: 0.6207 - val_loss: 1.2025 - val_accuracy: 0.5547\n",
            "Epoch 58/200\n",
            "32/32 [==============================] - 0s 5ms/step - loss: 0.8649 - accuracy: 0.6188 - val_loss: 1.2025 - val_accuracy: 0.5664\n",
            "Epoch 59/200\n",
            "32/32 [==============================] - 0s 4ms/step - loss: 0.8623 - accuracy: 0.6334 - val_loss: 1.2073 - val_accuracy: 0.5703\n",
            "Epoch 60/200\n",
            "32/32 [==============================] - 0s 5ms/step - loss: 0.8611 - accuracy: 0.6285 - val_loss: 1.2247 - val_accuracy: 0.5586\n",
            "Epoch 61/200\n",
            "32/32 [==============================] - 0s 4ms/step - loss: 0.8606 - accuracy: 0.6197 - val_loss: 1.2157 - val_accuracy: 0.5664\n",
            "Epoch 62/200\n",
            "32/32 [==============================] - 0s 4ms/step - loss: 0.8577 - accuracy: 0.6256 - val_loss: 1.2287 - val_accuracy: 0.5469\n",
            "Epoch 63/200\n",
            "32/32 [==============================] - 0s 4ms/step - loss: 0.8580 - accuracy: 0.6256 - val_loss: 1.2077 - val_accuracy: 0.5508\n",
            "Epoch 64/200\n",
            "32/32 [==============================] - 0s 5ms/step - loss: 0.8465 - accuracy: 0.6315 - val_loss: 1.2252 - val_accuracy: 0.5742\n",
            "Epoch 65/200\n",
            "32/32 [==============================] - 0s 5ms/step - loss: 0.8455 - accuracy: 0.6276 - val_loss: 1.2313 - val_accuracy: 0.5625\n",
            "Epoch 66/200\n",
            "32/32 [==============================] - 0s 5ms/step - loss: 0.8421 - accuracy: 0.6373 - val_loss: 1.2481 - val_accuracy: 0.5469\n",
            "Epoch 67/200\n",
            "32/32 [==============================] - 0s 5ms/step - loss: 0.8476 - accuracy: 0.6295 - val_loss: 1.2625 - val_accuracy: 0.5547\n",
            "Epoch 68/200\n",
            "32/32 [==============================] - 0s 5ms/step - loss: 0.8373 - accuracy: 0.6442 - val_loss: 1.2572 - val_accuracy: 0.5625\n",
            "Epoch 69/200\n",
            "32/32 [==============================] - 0s 5ms/step - loss: 0.8385 - accuracy: 0.6413 - val_loss: 1.2730 - val_accuracy: 0.5508\n",
            "Epoch 70/200\n",
            "32/32 [==============================] - 0s 5ms/step - loss: 0.8340 - accuracy: 0.6452 - val_loss: 1.2591 - val_accuracy: 0.5547\n",
            "Epoch 71/200\n",
            "32/32 [==============================] - 0s 5ms/step - loss: 0.8291 - accuracy: 0.6373 - val_loss: 1.2656 - val_accuracy: 0.5586\n",
            "Epoch 72/200\n",
            "32/32 [==============================] - 0s 5ms/step - loss: 0.8303 - accuracy: 0.6442 - val_loss: 1.2569 - val_accuracy: 0.5508\n",
            "Epoch 73/200\n",
            "32/32 [==============================] - 0s 5ms/step - loss: 0.8250 - accuracy: 0.6471 - val_loss: 1.2665 - val_accuracy: 0.5586\n",
            "Epoch 74/200\n",
            "32/32 [==============================] - 0s 5ms/step - loss: 0.8263 - accuracy: 0.6432 - val_loss: 1.2810 - val_accuracy: 0.5469\n",
            "Epoch 75/200\n",
            "32/32 [==============================] - 0s 4ms/step - loss: 0.8307 - accuracy: 0.6413 - val_loss: 1.2682 - val_accuracy: 0.5586\n",
            "Epoch 76/200\n",
            "32/32 [==============================] - 0s 4ms/step - loss: 0.8213 - accuracy: 0.6471 - val_loss: 1.2742 - val_accuracy: 0.5508\n",
            "Epoch 77/200\n",
            "32/32 [==============================] - 0s 4ms/step - loss: 0.8201 - accuracy: 0.6500 - val_loss: 1.2648 - val_accuracy: 0.5547\n",
            "Epoch 78/200\n",
            "32/32 [==============================] - 0s 5ms/step - loss: 0.8106 - accuracy: 0.6618 - val_loss: 1.2728 - val_accuracy: 0.5664\n",
            "Epoch 79/200\n",
            "32/32 [==============================] - 0s 5ms/step - loss: 0.8155 - accuracy: 0.6510 - val_loss: 1.2613 - val_accuracy: 0.5742\n",
            "Epoch 80/200\n",
            "32/32 [==============================] - 0s 5ms/step - loss: 0.8134 - accuracy: 0.6510 - val_loss: 1.2676 - val_accuracy: 0.5586\n",
            "Epoch 81/200\n",
            "32/32 [==============================] - 0s 5ms/step - loss: 0.8170 - accuracy: 0.6471 - val_loss: 1.2456 - val_accuracy: 0.5742\n",
            "Epoch 82/200\n",
            "32/32 [==============================] - 0s 4ms/step - loss: 0.8063 - accuracy: 0.6471 - val_loss: 1.2648 - val_accuracy: 0.5898\n",
            "Epoch 83/200\n",
            "32/32 [==============================] - 0s 5ms/step - loss: 0.8005 - accuracy: 0.6598 - val_loss: 1.2821 - val_accuracy: 0.5547\n",
            "Epoch 84/200\n",
            "32/32 [==============================] - 0s 5ms/step - loss: 0.8061 - accuracy: 0.6618 - val_loss: 1.2595 - val_accuracy: 0.5898\n",
            "Epoch 85/200\n",
            "32/32 [==============================] - 0s 5ms/step - loss: 0.8007 - accuracy: 0.6549 - val_loss: 1.2921 - val_accuracy: 0.5664\n",
            "Epoch 86/200\n",
            "32/32 [==============================] - 0s 5ms/step - loss: 0.7984 - accuracy: 0.6588 - val_loss: 1.2495 - val_accuracy: 0.5820\n",
            "Epoch 87/200\n",
            "32/32 [==============================] - 0s 5ms/step - loss: 0.7911 - accuracy: 0.6696 - val_loss: 1.2663 - val_accuracy: 0.5781\n",
            "Epoch 88/200\n",
            "32/32 [==============================] - 0s 5ms/step - loss: 0.7896 - accuracy: 0.6676 - val_loss: 1.2767 - val_accuracy: 0.5664\n",
            "Epoch 89/200\n",
            "32/32 [==============================] - 0s 5ms/step - loss: 0.7898 - accuracy: 0.6628 - val_loss: 1.2944 - val_accuracy: 0.5625\n",
            "Epoch 90/200\n",
            "32/32 [==============================] - 0s 5ms/step - loss: 0.7902 - accuracy: 0.6628 - val_loss: 1.2713 - val_accuracy: 0.5781\n",
            "Epoch 91/200\n",
            "32/32 [==============================] - 0s 5ms/step - loss: 0.7830 - accuracy: 0.6657 - val_loss: 1.2974 - val_accuracy: 0.5703\n",
            "Epoch 92/200\n",
            "32/32 [==============================] - 0s 5ms/step - loss: 0.7864 - accuracy: 0.6686 - val_loss: 1.2702 - val_accuracy: 0.5859\n",
            "Epoch 93/200\n",
            "32/32 [==============================] - 0s 5ms/step - loss: 0.7804 - accuracy: 0.6657 - val_loss: 1.2773 - val_accuracy: 0.5664\n",
            "Epoch 94/200\n",
            "32/32 [==============================] - 0s 5ms/step - loss: 0.7850 - accuracy: 0.6657 - val_loss: 1.2751 - val_accuracy: 0.5664\n",
            "Epoch 95/200\n",
            "32/32 [==============================] - 0s 5ms/step - loss: 0.7750 - accuracy: 0.6657 - val_loss: 1.2892 - val_accuracy: 0.5703\n",
            "Epoch 96/200\n",
            "32/32 [==============================] - 0s 5ms/step - loss: 0.7737 - accuracy: 0.6667 - val_loss: 1.2935 - val_accuracy: 0.5703\n",
            "Epoch 97/200\n",
            "32/32 [==============================] - 0s 5ms/step - loss: 0.7681 - accuracy: 0.6618 - val_loss: 1.2683 - val_accuracy: 0.5781\n",
            "Epoch 98/200\n",
            "32/32 [==============================] - 0s 5ms/step - loss: 0.7662 - accuracy: 0.6647 - val_loss: 1.2895 - val_accuracy: 0.5664\n",
            "Epoch 99/200\n",
            "32/32 [==============================] - 0s 4ms/step - loss: 0.7640 - accuracy: 0.6618 - val_loss: 1.2961 - val_accuracy: 0.5703\n",
            "Epoch 100/200\n",
            "32/32 [==============================] - 0s 5ms/step - loss: 0.7658 - accuracy: 0.6569 - val_loss: 1.2758 - val_accuracy: 0.5859\n",
            "Epoch 101/200\n",
            "32/32 [==============================] - 0s 5ms/step - loss: 0.7627 - accuracy: 0.6569 - val_loss: 1.2919 - val_accuracy: 0.5625\n",
            "Epoch 102/200\n",
            "32/32 [==============================] - 0s 5ms/step - loss: 0.7659 - accuracy: 0.6637 - val_loss: 1.2803 - val_accuracy: 0.5703\n",
            "Epoch 103/200\n",
            "32/32 [==============================] - 0s 5ms/step - loss: 0.7538 - accuracy: 0.6696 - val_loss: 1.2858 - val_accuracy: 0.5664\n",
            "Epoch 104/200\n",
            "32/32 [==============================] - 0s 5ms/step - loss: 0.7518 - accuracy: 0.6706 - val_loss: 1.2959 - val_accuracy: 0.5664\n",
            "Epoch 105/200\n",
            "32/32 [==============================] - 0s 5ms/step - loss: 0.7487 - accuracy: 0.6725 - val_loss: 1.3013 - val_accuracy: 0.5742\n",
            "Epoch 106/200\n",
            "32/32 [==============================] - 0s 5ms/step - loss: 0.7466 - accuracy: 0.6706 - val_loss: 1.3052 - val_accuracy: 0.5742\n",
            "Epoch 107/200\n",
            "32/32 [==============================] - 0s 5ms/step - loss: 0.7472 - accuracy: 0.6745 - val_loss: 1.3170 - val_accuracy: 0.5625\n",
            "Epoch 108/200\n",
            "32/32 [==============================] - 0s 5ms/step - loss: 0.7437 - accuracy: 0.6735 - val_loss: 1.3153 - val_accuracy: 0.5664\n",
            "Epoch 109/200\n",
            "32/32 [==============================] - 0s 5ms/step - loss: 0.7475 - accuracy: 0.6667 - val_loss: 1.3218 - val_accuracy: 0.5586\n",
            "Epoch 110/200\n",
            "32/32 [==============================] - 0s 5ms/step - loss: 0.7488 - accuracy: 0.6588 - val_loss: 1.3246 - val_accuracy: 0.5586\n",
            "Epoch 111/200\n",
            "32/32 [==============================] - 0s 5ms/step - loss: 0.7392 - accuracy: 0.6804 - val_loss: 1.3412 - val_accuracy: 0.5820\n",
            "Epoch 112/200\n",
            "32/32 [==============================] - 0s 5ms/step - loss: 0.7425 - accuracy: 0.6735 - val_loss: 1.3237 - val_accuracy: 0.5586\n",
            "Epoch 113/200\n",
            "32/32 [==============================] - 0s 5ms/step - loss: 0.7386 - accuracy: 0.6784 - val_loss: 1.3257 - val_accuracy: 0.5625\n",
            "Epoch 114/200\n",
            "32/32 [==============================] - 0s 4ms/step - loss: 0.7339 - accuracy: 0.6745 - val_loss: 1.3332 - val_accuracy: 0.5508\n",
            "Epoch 115/200\n",
            "32/32 [==============================] - 0s 5ms/step - loss: 0.7311 - accuracy: 0.6735 - val_loss: 1.3469 - val_accuracy: 0.5938\n",
            "Epoch 116/200\n",
            "32/32 [==============================] - 0s 5ms/step - loss: 0.7334 - accuracy: 0.6637 - val_loss: 1.3469 - val_accuracy: 0.5469\n",
            "Epoch 117/200\n",
            "32/32 [==============================] - 0s 5ms/step - loss: 0.7270 - accuracy: 0.6833 - val_loss: 1.3371 - val_accuracy: 0.5742\n",
            "Epoch 118/200\n",
            "32/32 [==============================] - 0s 5ms/step - loss: 0.7265 - accuracy: 0.6706 - val_loss: 1.3577 - val_accuracy: 0.5625\n",
            "Epoch 119/200\n",
            "32/32 [==============================] - 0s 4ms/step - loss: 0.7339 - accuracy: 0.6725 - val_loss: 1.3388 - val_accuracy: 0.5625\n",
            "Epoch 120/200\n",
            "32/32 [==============================] - 0s 5ms/step - loss: 0.7257 - accuracy: 0.6745 - val_loss: 1.3602 - val_accuracy: 0.5742\n",
            "Epoch 121/200\n",
            "32/32 [==============================] - 0s 5ms/step - loss: 0.7197 - accuracy: 0.6813 - val_loss: 1.3553 - val_accuracy: 0.5625\n",
            "Epoch 122/200\n",
            "32/32 [==============================] - 0s 5ms/step - loss: 0.7135 - accuracy: 0.6735 - val_loss: 1.3827 - val_accuracy: 0.5586\n",
            "Epoch 123/200\n",
            "32/32 [==============================] - 0s 5ms/step - loss: 0.7223 - accuracy: 0.6784 - val_loss: 1.3675 - val_accuracy: 0.5508\n",
            "Epoch 124/200\n",
            "32/32 [==============================] - 0s 5ms/step - loss: 0.7157 - accuracy: 0.6872 - val_loss: 1.3786 - val_accuracy: 0.5547\n",
            "Epoch 125/200\n",
            "32/32 [==============================] - 0s 5ms/step - loss: 0.7184 - accuracy: 0.6784 - val_loss: 1.3723 - val_accuracy: 0.5547\n",
            "Epoch 126/200\n",
            "32/32 [==============================] - 0s 5ms/step - loss: 0.7069 - accuracy: 0.6882 - val_loss: 1.3781 - val_accuracy: 0.5703\n",
            "Epoch 127/200\n",
            "32/32 [==============================] - 0s 5ms/step - loss: 0.7077 - accuracy: 0.6931 - val_loss: 1.3868 - val_accuracy: 0.5664\n",
            "Epoch 128/200\n",
            "32/32 [==============================] - 0s 5ms/step - loss: 0.7053 - accuracy: 0.6940 - val_loss: 1.3818 - val_accuracy: 0.5547\n",
            "Epoch 129/200\n",
            "32/32 [==============================] - 0s 6ms/step - loss: 0.7120 - accuracy: 0.6852 - val_loss: 1.4363 - val_accuracy: 0.5586\n",
            "Epoch 130/200\n",
            "32/32 [==============================] - 0s 5ms/step - loss: 0.7170 - accuracy: 0.6862 - val_loss: 1.4091 - val_accuracy: 0.5664\n",
            "Epoch 131/200\n",
            "32/32 [==============================] - 0s 5ms/step - loss: 0.7134 - accuracy: 0.6823 - val_loss: 1.4327 - val_accuracy: 0.5430\n",
            "Epoch 132/200\n",
            "32/32 [==============================] - 0s 5ms/step - loss: 0.7111 - accuracy: 0.6794 - val_loss: 1.4216 - val_accuracy: 0.5586\n",
            "Epoch 133/200\n",
            "32/32 [==============================] - 0s 4ms/step - loss: 0.7217 - accuracy: 0.6794 - val_loss: 1.3957 - val_accuracy: 0.5586\n",
            "Epoch 134/200\n",
            "32/32 [==============================] - 0s 5ms/step - loss: 0.7102 - accuracy: 0.6931 - val_loss: 1.4090 - val_accuracy: 0.5703\n",
            "Epoch 135/200\n",
            "32/32 [==============================] - 0s 4ms/step - loss: 0.6936 - accuracy: 0.7019 - val_loss: 1.4196 - val_accuracy: 0.5820\n",
            "Epoch 136/200\n",
            "32/32 [==============================] - 0s 5ms/step - loss: 0.6921 - accuracy: 0.7019 - val_loss: 1.4425 - val_accuracy: 0.5703\n",
            "Epoch 137/200\n",
            "32/32 [==============================] - 0s 5ms/step - loss: 0.6933 - accuracy: 0.7028 - val_loss: 1.4433 - val_accuracy: 0.5781\n",
            "Epoch 138/200\n",
            "32/32 [==============================] - 0s 4ms/step - loss: 0.6954 - accuracy: 0.6931 - val_loss: 1.4301 - val_accuracy: 0.5664\n",
            "Epoch 139/200\n",
            "32/32 [==============================] - 0s 5ms/step - loss: 0.6883 - accuracy: 0.7009 - val_loss: 1.4437 - val_accuracy: 0.5703\n",
            "Epoch 140/200\n",
            "32/32 [==============================] - 0s 5ms/step - loss: 0.6875 - accuracy: 0.7038 - val_loss: 1.4531 - val_accuracy: 0.5547\n",
            "Epoch 141/200\n",
            "32/32 [==============================] - 0s 5ms/step - loss: 0.6876 - accuracy: 0.7038 - val_loss: 1.4388 - val_accuracy: 0.5586\n",
            "Epoch 142/200\n",
            "32/32 [==============================] - 0s 5ms/step - loss: 0.6864 - accuracy: 0.6999 - val_loss: 1.4584 - val_accuracy: 0.5625\n",
            "Epoch 143/200\n",
            "32/32 [==============================] - 0s 4ms/step - loss: 0.6790 - accuracy: 0.7009 - val_loss: 1.4597 - val_accuracy: 0.5547\n",
            "Epoch 144/200\n",
            "32/32 [==============================] - 0s 5ms/step - loss: 0.6840 - accuracy: 0.7038 - val_loss: 1.4327 - val_accuracy: 0.5664\n",
            "Epoch 145/200\n",
            "32/32 [==============================] - 0s 4ms/step - loss: 0.6615 - accuracy: 0.7116 - val_loss: 1.4441 - val_accuracy: 0.5820\n",
            "Epoch 146/200\n",
            "32/32 [==============================] - 0s 4ms/step - loss: 0.6608 - accuracy: 0.7146 - val_loss: 1.4585 - val_accuracy: 0.5703\n",
            "Epoch 147/200\n",
            "32/32 [==============================] - 0s 5ms/step - loss: 0.6557 - accuracy: 0.7165 - val_loss: 1.4813 - val_accuracy: 0.5586\n",
            "Epoch 148/200\n",
            "32/32 [==============================] - 0s 5ms/step - loss: 0.6606 - accuracy: 0.7165 - val_loss: 1.4656 - val_accuracy: 0.5703\n",
            "Epoch 149/200\n",
            "32/32 [==============================] - 0s 5ms/step - loss: 0.6574 - accuracy: 0.7136 - val_loss: 1.4880 - val_accuracy: 0.5703\n",
            "Epoch 150/200\n",
            "32/32 [==============================] - 0s 5ms/step - loss: 0.6531 - accuracy: 0.7116 - val_loss: 1.4950 - val_accuracy: 0.5547\n",
            "Epoch 151/200\n",
            "32/32 [==============================] - 0s 5ms/step - loss: 0.6551 - accuracy: 0.7175 - val_loss: 1.5010 - val_accuracy: 0.5625\n",
            "Epoch 152/200\n",
            "32/32 [==============================] - 0s 5ms/step - loss: 0.6546 - accuracy: 0.7136 - val_loss: 1.4925 - val_accuracy: 0.5742\n",
            "Epoch 153/200\n",
            "32/32 [==============================] - 0s 5ms/step - loss: 0.6456 - accuracy: 0.7234 - val_loss: 1.5062 - val_accuracy: 0.5625\n",
            "Epoch 154/200\n",
            "32/32 [==============================] - 0s 4ms/step - loss: 0.6458 - accuracy: 0.7155 - val_loss: 1.5100 - val_accuracy: 0.5625\n",
            "Epoch 155/200\n",
            "32/32 [==============================] - 0s 5ms/step - loss: 0.6401 - accuracy: 0.7224 - val_loss: 1.5236 - val_accuracy: 0.5625\n",
            "Epoch 156/200\n",
            "32/32 [==============================] - 0s 5ms/step - loss: 0.6432 - accuracy: 0.7273 - val_loss: 1.5081 - val_accuracy: 0.5508\n",
            "Epoch 157/200\n",
            "32/32 [==============================] - 0s 5ms/step - loss: 0.6442 - accuracy: 0.7204 - val_loss: 1.5179 - val_accuracy: 0.5625\n",
            "Epoch 158/200\n",
            "32/32 [==============================] - 0s 4ms/step - loss: 0.6427 - accuracy: 0.7175 - val_loss: 1.5106 - val_accuracy: 0.5703\n",
            "Epoch 159/200\n",
            "32/32 [==============================] - 0s 5ms/step - loss: 0.6386 - accuracy: 0.7273 - val_loss: 1.5201 - val_accuracy: 0.5664\n",
            "Epoch 160/200\n",
            "32/32 [==============================] - 0s 5ms/step - loss: 0.6304 - accuracy: 0.7283 - val_loss: 1.5327 - val_accuracy: 0.5625\n",
            "Epoch 161/200\n",
            "32/32 [==============================] - 0s 5ms/step - loss: 0.6318 - accuracy: 0.7263 - val_loss: 1.5305 - val_accuracy: 0.5625\n",
            "Epoch 162/200\n",
            "32/32 [==============================] - 0s 5ms/step - loss: 0.6272 - accuracy: 0.7312 - val_loss: 1.5341 - val_accuracy: 0.5625\n",
            "Epoch 163/200\n",
            "32/32 [==============================] - 0s 5ms/step - loss: 0.6306 - accuracy: 0.7331 - val_loss: 1.5521 - val_accuracy: 0.5859\n",
            "Epoch 164/200\n",
            "32/32 [==============================] - 0s 4ms/step - loss: 0.6222 - accuracy: 0.7283 - val_loss: 1.5413 - val_accuracy: 0.5664\n",
            "Epoch 165/200\n",
            "32/32 [==============================] - 0s 5ms/step - loss: 0.6276 - accuracy: 0.7302 - val_loss: 1.5321 - val_accuracy: 0.5391\n",
            "Epoch 166/200\n",
            "32/32 [==============================] - 0s 5ms/step - loss: 0.6354 - accuracy: 0.7214 - val_loss: 1.5597 - val_accuracy: 0.5430\n",
            "Epoch 167/200\n",
            "32/32 [==============================] - 0s 5ms/step - loss: 0.6280 - accuracy: 0.7263 - val_loss: 1.5684 - val_accuracy: 0.5586\n",
            "Epoch 168/200\n",
            "32/32 [==============================] - 0s 4ms/step - loss: 0.6121 - accuracy: 0.7341 - val_loss: 1.6177 - val_accuracy: 0.5664\n",
            "Epoch 169/200\n",
            "32/32 [==============================] - 0s 5ms/step - loss: 0.6175 - accuracy: 0.7410 - val_loss: 1.5920 - val_accuracy: 0.5625\n",
            "Epoch 170/200\n",
            "32/32 [==============================] - 0s 5ms/step - loss: 0.6102 - accuracy: 0.7302 - val_loss: 1.5652 - val_accuracy: 0.5586\n",
            "Epoch 171/200\n",
            "32/32 [==============================] - 0s 5ms/step - loss: 0.6086 - accuracy: 0.7322 - val_loss: 1.5687 - val_accuracy: 0.5781\n",
            "Epoch 172/200\n",
            "32/32 [==============================] - 0s 5ms/step - loss: 0.6083 - accuracy: 0.7283 - val_loss: 1.5989 - val_accuracy: 0.5625\n",
            "Epoch 173/200\n",
            "32/32 [==============================] - 0s 5ms/step - loss: 0.6012 - accuracy: 0.7390 - val_loss: 1.5868 - val_accuracy: 0.5664\n",
            "Epoch 174/200\n",
            "32/32 [==============================] - 0s 4ms/step - loss: 0.6016 - accuracy: 0.7400 - val_loss: 1.6134 - val_accuracy: 0.5469\n",
            "Epoch 175/200\n",
            "32/32 [==============================] - 0s 5ms/step - loss: 0.5986 - accuracy: 0.7341 - val_loss: 1.6083 - val_accuracy: 0.5625\n",
            "Epoch 176/200\n",
            "32/32 [==============================] - 0s 4ms/step - loss: 0.5993 - accuracy: 0.7498 - val_loss: 1.6227 - val_accuracy: 0.5625\n",
            "Epoch 177/200\n",
            "32/32 [==============================] - 0s 5ms/step - loss: 0.5931 - accuracy: 0.7507 - val_loss: 1.6157 - val_accuracy: 0.5664\n",
            "Epoch 178/200\n",
            "32/32 [==============================] - 0s 4ms/step - loss: 0.6029 - accuracy: 0.7390 - val_loss: 1.6499 - val_accuracy: 0.5586\n",
            "Epoch 179/200\n",
            "32/32 [==============================] - 0s 4ms/step - loss: 0.5975 - accuracy: 0.7478 - val_loss: 1.6450 - val_accuracy: 0.5586\n",
            "Epoch 180/200\n",
            "32/32 [==============================] - 0s 5ms/step - loss: 0.5988 - accuracy: 0.7517 - val_loss: 1.6434 - val_accuracy: 0.5625\n",
            "Epoch 181/200\n",
            "32/32 [==============================] - 0s 4ms/step - loss: 0.5963 - accuracy: 0.7429 - val_loss: 1.6642 - val_accuracy: 0.5742\n",
            "Epoch 182/200\n",
            "32/32 [==============================] - 0s 5ms/step - loss: 0.5906 - accuracy: 0.7390 - val_loss: 1.6541 - val_accuracy: 0.5703\n",
            "Epoch 183/200\n",
            "32/32 [==============================] - 0s 4ms/step - loss: 0.5857 - accuracy: 0.7429 - val_loss: 1.6652 - val_accuracy: 0.5508\n",
            "Epoch 184/200\n",
            "32/32 [==============================] - 0s 5ms/step - loss: 0.5905 - accuracy: 0.7419 - val_loss: 1.6764 - val_accuracy: 0.5508\n",
            "Epoch 185/200\n",
            "32/32 [==============================] - 0s 5ms/step - loss: 0.5852 - accuracy: 0.7390 - val_loss: 1.6787 - val_accuracy: 0.5586\n",
            "Epoch 186/200\n",
            "32/32 [==============================] - 0s 4ms/step - loss: 0.5901 - accuracy: 0.7439 - val_loss: 1.6690 - val_accuracy: 0.5547\n",
            "Epoch 187/200\n",
            "32/32 [==============================] - 0s 5ms/step - loss: 0.5790 - accuracy: 0.7468 - val_loss: 1.6973 - val_accuracy: 0.5703\n",
            "Epoch 188/200\n",
            "32/32 [==============================] - 0s 5ms/step - loss: 0.5740 - accuracy: 0.7546 - val_loss: 1.7006 - val_accuracy: 0.5625\n",
            "Epoch 189/200\n",
            "32/32 [==============================] - 0s 5ms/step - loss: 0.5798 - accuracy: 0.7546 - val_loss: 1.6747 - val_accuracy: 0.5586\n",
            "Epoch 190/200\n",
            "32/32 [==============================] - 0s 5ms/step - loss: 0.5830 - accuracy: 0.7449 - val_loss: 1.7029 - val_accuracy: 0.5508\n",
            "Epoch 191/200\n",
            "32/32 [==============================] - 0s 5ms/step - loss: 0.5770 - accuracy: 0.7556 - val_loss: 1.7246 - val_accuracy: 0.5508\n",
            "Epoch 192/200\n",
            "32/32 [==============================] - 0s 5ms/step - loss: 0.5706 - accuracy: 0.7449 - val_loss: 1.7262 - val_accuracy: 0.5586\n",
            "Epoch 193/200\n",
            "32/32 [==============================] - 0s 5ms/step - loss: 0.5657 - accuracy: 0.7537 - val_loss: 1.7402 - val_accuracy: 0.5469\n",
            "Epoch 194/200\n",
            "32/32 [==============================] - 0s 5ms/step - loss: 0.5695 - accuracy: 0.7595 - val_loss: 1.7087 - val_accuracy: 0.5586\n",
            "Epoch 195/200\n",
            "32/32 [==============================] - 0s 5ms/step - loss: 0.5617 - accuracy: 0.7615 - val_loss: 1.7346 - val_accuracy: 0.5547\n",
            "Epoch 196/200\n",
            "32/32 [==============================] - 0s 5ms/step - loss: 0.5702 - accuracy: 0.7576 - val_loss: 1.7705 - val_accuracy: 0.5547\n",
            "Epoch 197/200\n",
            "32/32 [==============================] - 0s 4ms/step - loss: 0.5657 - accuracy: 0.7546 - val_loss: 1.7202 - val_accuracy: 0.5508\n",
            "Epoch 198/200\n",
            "32/32 [==============================] - 0s 5ms/step - loss: 0.5659 - accuracy: 0.7449 - val_loss: 1.7138 - val_accuracy: 0.5586\n",
            "Epoch 199/200\n",
            "32/32 [==============================] - 0s 5ms/step - loss: 0.5458 - accuracy: 0.7693 - val_loss: 1.7693 - val_accuracy: 0.5586\n",
            "Epoch 200/200\n",
            "32/32 [==============================] - 0s 5ms/step - loss: 0.5634 - accuracy: 0.7683 - val_loss: 1.7468 - val_accuracy: 0.5625\n",
            "Test data set\n",
            "10/10 [==============================] - 0s 2ms/step - loss: 1.4707 - accuracy: 0.5750\n",
            "Accuracy 0.575\n"
          ],
          "name": "stdout"
        }
      ]
    }
  ]
}